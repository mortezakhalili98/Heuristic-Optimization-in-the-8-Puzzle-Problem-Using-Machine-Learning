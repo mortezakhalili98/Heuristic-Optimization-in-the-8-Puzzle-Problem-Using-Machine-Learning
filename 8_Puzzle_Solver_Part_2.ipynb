{
  "cells": [
    {
      "cell_type": "markdown",
      "metadata": {
        "id": "vChyKTLyTQta"
      },
      "source": [
        "# Data Preprocessing"
      ]
    },
    {
      "cell_type": "code",
      "execution_count": null,
      "metadata": {
        "colab": {
          "base_uri": "https://localhost:8080/"
        },
        "id": "yCS5_h7PSypU",
        "outputId": "b7fbd7c2-4b51-4f8c-ab19-cc069383e7b8"
      },
      "outputs": [
        {
          "output_type": "stream",
          "name": "stdout",
          "text": [
            "Training data shape: (145152, 13)\n",
            "Sample features (first row): 0                      3\n",
            "1                      6\n",
            "2                      7\n",
            "3                      8\n",
            "4                      2\n",
            "5                      1\n",
            "6                      5\n",
            "7                      0\n",
            "8                      4\n",
            "manhattan_distance    19\n",
            "misplaced_tiles        8\n",
            "correct_row            1\n",
            "correct_column         1\n",
            "Name: 151157, dtype: int64\n"
          ]
        }
      ],
      "source": [
        "import sqlite3\n",
        "import pandas as pd\n",
        "import numpy as np\n",
        "\n",
        "# Step 1: Load Data from the SQLite database\n",
        "def load_data_from_db(db_path):\n",
        "    conn = sqlite3.connect(db_path)\n",
        "    cursor = conn.cursor()\n",
        "\n",
        "    # Fetch all state-distance pairs\n",
        "    cursor.execute(\"SELECT state, solution_length FROM puzzle_states\")\n",
        "    data = cursor.fetchall()\n",
        "\n",
        "    # Close the connection\n",
        "    conn.close()\n",
        "\n",
        "    # Create a DataFrame from the fetched data\n",
        "    df = pd.DataFrame(data, columns=['state', 'solution_length'])\n",
        "\n",
        "    return df\n",
        "\n",
        "# Step 2: Manhattan Distance Calculation\n",
        "def calculate_manhattan_distance(state, goal_state):\n",
        "    # Reshape the 1D flattened state back to a 3x3 grid\n",
        "    state_reshaped = np.reshape(state, (3, 3))\n",
        "\n",
        "    total_distance = 0\n",
        "    for tile in range(1, 9):  # Ignore tile 0 (the blank space)\n",
        "        x1, y1 = np.where(state_reshaped == tile)  # Current position\n",
        "        x2, y2 = np.where(np.array(goal_state) == tile)  # Goal position\n",
        "        total_distance += abs(x1[0] - x2[0]) + abs(y1[0] - y2[0])\n",
        "\n",
        "    return total_distance\n",
        "\n",
        "# Step 3: Misplaced Tiles Calculation\n",
        "def calculate_misplaced_tiles(state, goal_state):\n",
        "    state_reshaped = np.reshape(state, (3, 3))\n",
        "    misplaced_count = 0\n",
        "    for i in range(3):\n",
        "        for j in range(3):\n",
        "            if state_reshaped[i][j] != goal_state[i][j] and state_reshaped[i][j] != 0:\n",
        "                misplaced_count += 1\n",
        "    return misplaced_count\n",
        "\n",
        "# Step 4: Tile Position Indicators Calculation\n",
        "def calculate_tile_position_indicators(state, goal_state):\n",
        "    state_reshaped = np.reshape(state, (3, 3))\n",
        "    correct_row = 0\n",
        "    correct_column = 0\n",
        "\n",
        "    for i in range(3):\n",
        "        for j in range(3):\n",
        "            tile = state_reshaped[i][j]\n",
        "            if tile != 0:\n",
        "                goal_pos = np.where(np.array(goal_state) == tile)\n",
        "                if i == goal_pos[0][0]:  # Correct row\n",
        "                    correct_row += 1\n",
        "                if j == goal_pos[1][0]:  # Correct column\n",
        "                    correct_column += 1\n",
        "    return correct_row, correct_column\n",
        "\n",
        "# Step 5: Preprocess the data (add new features)\n",
        "def preprocess_data_with_additional_features(df):\n",
        "    goal_state = [[1, 2, 3], [4, 5, 6], [7, 8, 0]]  # Define the goal state\n",
        "\n",
        "    df['flattened_state'] = df['state'].apply(lambda x: eval(x))  # Convert state string to list of lists\n",
        "\n",
        "    # Flatten the state, calculate Manhattan distance, misplaced tiles, and tile position indicators\n",
        "    df['flattened_state'] = df['flattened_state'].apply(lambda state: [tile for row in state for tile in row])\n",
        "    df['manhattan_distance'] = df['flattened_state'].apply(lambda state: calculate_manhattan_distance(state, goal_state))\n",
        "    df['misplaced_tiles'] = df['flattened_state'].apply(lambda state: calculate_misplaced_tiles(state, goal_state))\n",
        "    df[['correct_row', 'correct_column']] = df['flattened_state'].apply(lambda state: pd.Series(calculate_tile_position_indicators(state, goal_state)))\n",
        "\n",
        "    # Features include the flattened state and additional features\n",
        "    X = pd.DataFrame(df['flattened_state'].tolist())\n",
        "    X['manhattan_distance'] = df['manhattan_distance']\n",
        "    X['misplaced_tiles'] = df['misplaced_tiles']\n",
        "    X['correct_row'] = df['correct_row']\n",
        "    X['correct_column'] = df['correct_column']\n",
        "\n",
        "    y = df['solution_length']\n",
        "\n",
        "    return X, y\n",
        "\n",
        "# Step 6: Split the data into training and test sets\n",
        "from sklearn.model_selection import train_test_split\n",
        "def split_data(X, y, test_size=0.2):\n",
        "    return train_test_split(X, y, test_size=test_size, random_state=42)\n",
        "\n",
        "def main():\n",
        "    # Make sure you've uploaded your SQLite database file in Colab\n",
        "    db_path = '/content/puzzle_database.db'\n",
        "\n",
        "    # Load data from the database\n",
        "    df = load_data_from_db(db_path)\n",
        "\n",
        "    # Preprocess data with additional features (Manhattan distance, misplaced tiles, tile indicators)\n",
        "    X, y = preprocess_data_with_additional_features(df)\n",
        "\n",
        "    # Split the data into training and test sets\n",
        "    X_train, X_test, y_train, y_test = split_data(X, y)\n",
        "\n",
        "    # Now X_train, X_test, y_train, and y_test are ready with additional features for training models!\n",
        "    print(\"Training data shape:\", X_train.shape)\n",
        "    print(\"Sample features (first row):\", X_train.iloc[0])\n",
        "\n",
        "if __name__ == \"__main__\":\n",
        "    main()\n"
      ]
    },
    {
      "cell_type": "markdown",
      "metadata": {
        "id": "eJs9Nk4IZRB3"
      },
      "source": [
        "# Linear Regression"
      ]
    },
    {
      "cell_type": "markdown",
      "metadata": {
        "id": "JZuKtDjLWila"
      },
      "source": [
        "# Trained with linear regression with Manhattan distance"
      ]
    },
    {
      "cell_type": "code",
      "execution_count": null,
      "metadata": {
        "colab": {
          "base_uri": "https://localhost:8080/"
        },
        "id": "YsfzgZrhW6WA",
        "outputId": "a83693d3-41a7-48f2-bdc5-18eeeb8cc2ad"
      },
      "outputs": [
        {
          "output_type": "stream",
          "name": "stdout",
          "text": [
            "Mean Squared Error (MSE): 7.779769029707702\n",
            "Mean Absolute Error (MAE): 2.1957904558767747\n"
          ]
        }
      ],
      "source": [
        "from sklearn.linear_model import LinearRegression\n",
        "from sklearn.metrics import mean_squared_error, mean_absolute_error\n",
        "\n",
        "# Train a Linear Regression Model\n",
        "def train_linear_regression(X_train, y_train):\n",
        "    model = LinearRegression()\n",
        "    model.fit(X_train, y_train)\n",
        "    return model\n",
        "\n",
        "# Evaluate the Model\n",
        "def evaluate_model(model, X_test, y_test):\n",
        "    y_pred = model.predict(X_test)\n",
        "\n",
        "    # Calculate Mean Squared Error and Mean Absolute Error\n",
        "    mse = mean_squared_error(y_test, y_pred)\n",
        "    mae = mean_absolute_error(y_test, y_pred)\n",
        "\n",
        "    print(f\"Mean Squared Error (MSE): {mse}\")\n",
        "    print(f\"Mean Absolute Error (MAE): {mae}\")\n",
        "\n",
        "# Main function to load data, preprocess, train, and evaluate\n",
        "def main():\n",
        "    # Make sure you've uploaded your SQLite database file in Colab\n",
        "    db_path = '/content/puzzle_database.db'\n",
        "\n",
        "    # Load data from the database\n",
        "    df = load_data_from_db(db_path)\n",
        "\n",
        "    # Preprocess the data\n",
        "    X, y = preprocess_data_with_additional_features(df)\n",
        "\n",
        "    # Use only 'manhattan_distance' as the feature for training\n",
        "    X_train, X_test, y_train, y_test = split_data(X[['manhattan_distance']], y)  # Selecting only the 'manhattan_distance'\n",
        "\n",
        "    # Train Linear Regression\n",
        "    linear_model = train_linear_regression(X_train, y_train)\n",
        "\n",
        "    # Evaluate the Linear Regression model\n",
        "    evaluate_model(linear_model, X_test, y_test)\n",
        "\n",
        "if __name__ == \"__main__\":\n",
        "    main()\n"
      ]
    },
    {
      "cell_type": "markdown",
      "metadata": {
        "id": "I00SiZ03YGsW"
      },
      "source": [
        "# Trained with Linear Regression with Misplaced tiles"
      ]
    },
    {
      "cell_type": "code",
      "execution_count": null,
      "metadata": {
        "colab": {
          "base_uri": "https://localhost:8080/"
        },
        "id": "251HcqR2YM6S",
        "outputId": "e6c5a846-9e33-4d97-fa65-a7875bc627b9"
      },
      "outputs": [
        {
          "name": "stdout",
          "output_type": "stream",
          "text": [
            "Mean Squared Error (MSE): 10.649633705050777\n",
            "Mean Absolute Error (MAE): 2.565648518123405\n"
          ]
        }
      ],
      "source": [
        "def main():\n",
        "    # Make sure you've uploaded your SQLite database file in Colab\n",
        "    db_path = '/content/puzzle_database.db'\n",
        "\n",
        "    # Load data from the database\n",
        "    df = load_data_from_db(db_path)\n",
        "\n",
        "    # Preprocess the data\n",
        "    X, y = preprocess_data_with_additional_features(df)\n",
        "\n",
        "    # Use only 'misplaced_tiles' as the feature for training\n",
        "    X_train, X_test, y_train, y_test = split_data(X[['misplaced_tiles']], y)  # Selecting only 'misplaced_tiles'\n",
        "\n",
        "    # Train Linear Regression\n",
        "    linear_model = train_linear_regression(X_train, y_train)\n",
        "\n",
        "    # Evaluate the Linear Regression model\n",
        "    evaluate_model(linear_model, X_test, y_test)\n",
        "\n",
        "if __name__ == \"__main__\":\n",
        "    main()\n"
      ]
    },
    {
      "cell_type": "markdown",
      "metadata": {
        "id": "UdKchbBvYsRm"
      },
      "source": [
        "# Trained with Linear Regression with Correct Row"
      ]
    },
    {
      "cell_type": "code",
      "execution_count": null,
      "metadata": {
        "colab": {
          "base_uri": "https://localhost:8080/"
        },
        "id": "LGq_HQieYzqc",
        "outputId": "e697077d-5e30-45a4-85dd-112c93a4e702"
      },
      "outputs": [
        {
          "name": "stdout",
          "output_type": "stream",
          "text": [
            "Mean Squared Error (MSE): 10.601717775630764\n",
            "Mean Absolute Error (MAE): 2.562155729621565\n"
          ]
        }
      ],
      "source": [
        "def main():\n",
        "    # Make sure you've uploaded your SQLite database file in Colab\n",
        "    db_path = '/content/puzzle_database.db'\n",
        "\n",
        "    # Load data from the database\n",
        "    df = load_data_from_db(db_path)\n",
        "\n",
        "    # Preprocess the data\n",
        "    X, y = preprocess_data_with_additional_features(df)\n",
        "\n",
        "    # Use only 'correct_row' as the feature for training\n",
        "    X_train, X_test, y_train, y_test = split_data(X[['correct_row']], y)  # Selecting only 'correct_row'\n",
        "\n",
        "    # Train Linear Regression\n",
        "    linear_model = train_linear_regression(X_train, y_train)\n",
        "\n",
        "    # Evaluate the Linear Regression model\n",
        "    evaluate_model(linear_model, X_test, y_test)\n",
        "\n",
        "if __name__ == \"__main__\":\n",
        "    main()\n"
      ]
    },
    {
      "cell_type": "markdown",
      "metadata": {
        "id": "V-6b7y-rY9PF"
      },
      "source": [
        "# Trained with Linear Regression with Correct Column"
      ]
    },
    {
      "cell_type": "code",
      "execution_count": null,
      "metadata": {
        "colab": {
          "base_uri": "https://localhost:8080/"
        },
        "id": "xNEcOMZCZFEp",
        "outputId": "2cae5b9c-acac-4fd3-ace2-1bf51cdb3663"
      },
      "outputs": [
        {
          "name": "stdout",
          "output_type": "stream",
          "text": [
            "Mean Squared Error (MSE): 10.618348021404307\n",
            "Mean Absolute Error (MAE): 2.563074119876473\n"
          ]
        }
      ],
      "source": [
        "def main():\n",
        "    db_path = '/content/puzzle_database.db'\n",
        "\n",
        "    # Load data from the database\n",
        "    df = load_data_from_db(db_path)\n",
        "\n",
        "    # Preprocess the data\n",
        "    X, y = preprocess_data_with_additional_features(df)\n",
        "\n",
        "    # Use only 'correct_column' as the feature for training\n",
        "    X_train, X_test, y_train, y_test = split_data(X[['correct_column']], y)  # Selecting only 'correct_column'\n",
        "\n",
        "    # Train Linear Regression\n",
        "    linear_model = train_linear_regression(X_train, y_train)\n",
        "\n",
        "    # Evaluate the Linear Regression model\n",
        "    evaluate_model(linear_model, X_test, y_test)\n",
        "\n",
        "if __name__ == \"__main__\":\n",
        "    main()\n"
      ]
    },
    {
      "cell_type": "markdown",
      "metadata": {
        "id": "SiTLxNZXa5W1"
      },
      "source": [
        "# Decision Tree Regressor"
      ]
    },
    {
      "cell_type": "markdown",
      "metadata": {
        "id": "ZKUMJVA2bLaN"
      },
      "source": [
        "## Decision Tree Regressor with Manhattan distance"
      ]
    },
    {
      "cell_type": "code",
      "execution_count": null,
      "metadata": {
        "colab": {
          "base_uri": "https://localhost:8080/"
        },
        "id": "iLvdWI-GbRGf",
        "outputId": "4c2d88bd-cc00-4457-e155-d67f5694da2e"
      },
      "outputs": [
        {
          "name": "stdout",
          "output_type": "stream",
          "text": [
            "Mean Squared Error (MSE): 7.668757570749066\n",
            "Mean Absolute Error (MAE): 2.1954475963594\n"
          ]
        }
      ],
      "source": [
        "from sklearn.tree import DecisionTreeRegressor\n",
        "from sklearn.metrics import mean_squared_error, mean_absolute_error\n",
        "\n",
        "# Train a Decision Tree Regressor\n",
        "def train_decision_tree(X_train, y_train):\n",
        "    model = DecisionTreeRegressor(random_state=42)\n",
        "    model.fit(X_train, y_train)\n",
        "    return model\n",
        "\n",
        "# Evaluate the Model\n",
        "def evaluate_model(model, X_test, y_test):\n",
        "    y_pred = model.predict(X_test)\n",
        "\n",
        "    # Calculate Mean Squared Error and Mean Absolute Error\n",
        "    mse = mean_squared_error(y_test, y_pred)\n",
        "    mae = mean_absolute_error(y_test, y_pred)\n",
        "\n",
        "    print(f\"Mean Squared Error (MSE): {mse}\")\n",
        "    print(f\"Mean Absolute Error (MAE): {mae}\")\n",
        "\n",
        "# Main function to load data, preprocess, train, and evaluate\n",
        "def main():\n",
        "    # Make sure you've uploaded your SQLite database file in Colab\n",
        "    db_path = '/content/puzzle_database.db'\n",
        "\n",
        "    # Load data from the database\n",
        "    df = load_data_from_db(db_path)\n",
        "\n",
        "    # Preprocess the data\n",
        "    X, y = preprocess_data_with_additional_features(df)\n",
        "\n",
        "    # Use only 'manhattan_distance' as the feature for training\n",
        "    X_train, X_test, y_train, y_test = split_data(X[['manhattan_distance']], y)  # Selecting only 'manhattan_distance'\n",
        "\n",
        "    # Train Decision Tree Regressor\n",
        "    dt_model = train_decision_tree(X_train, y_train)\n",
        "\n",
        "    # Evaluate the Decision Tree model\n",
        "    evaluate_model(dt_model, X_test, y_test)\n",
        "\n",
        "if __name__ == \"__main__\":\n",
        "    main()\n"
      ]
    },
    {
      "cell_type": "markdown",
      "metadata": {
        "id": "TtzkjslQbXx_"
      },
      "source": [
        "## Decision Tree Regressor with Misplaced tiles"
      ]
    },
    {
      "cell_type": "code",
      "execution_count": null,
      "metadata": {
        "colab": {
          "base_uri": "https://localhost:8080/"
        },
        "id": "4cEkRjuRbYpC",
        "outputId": "e55d2a15-5ec5-441a-e363-25e874f72db4"
      },
      "outputs": [
        {
          "name": "stdout",
          "output_type": "stream",
          "text": [
            "Mean Squared Error (MSE): 10.605130957967193\n",
            "Mean Absolute Error (MAE): 2.5632789455633187\n"
          ]
        }
      ],
      "source": [
        "def main():\n",
        "    db_path = '/content/puzzle_database.db'\n",
        "\n",
        "    # Load data from the database\n",
        "    df = load_data_from_db(db_path)\n",
        "\n",
        "    # Preprocess the data\n",
        "    X, y = preprocess_data_with_additional_features(df)\n",
        "\n",
        "    # Use only 'misplaced_tiles' as the feature for training\n",
        "    X_train, X_test, y_train, y_test = split_data(X[['misplaced_tiles']], y)  # Selecting only 'misplaced_tiles'\n",
        "\n",
        "    # Train Decision Tree Regressor\n",
        "    dt_model = train_decision_tree(X_train, y_train)\n",
        "\n",
        "    # Evaluate the Decision Tree model\n",
        "    evaluate_model(dt_model, X_test, y_test)\n",
        "\n",
        "if __name__ == \"__main__\":\n",
        "    main()\n"
      ]
    },
    {
      "cell_type": "markdown",
      "metadata": {
        "id": "nGMMax9FbdpP"
      },
      "source": [
        "# Decision Tree Regressor with Correct Row"
      ]
    },
    {
      "cell_type": "code",
      "execution_count": null,
      "metadata": {
        "colab": {
          "base_uri": "https://localhost:8080/"
        },
        "id": "cGG9djBQb8nK",
        "outputId": "554e93e9-14d7-4e5f-b315-f606533b71a9"
      },
      "outputs": [
        {
          "name": "stdout",
          "output_type": "stream",
          "text": [
            "Mean Squared Error (MSE): 10.600346479057341\n",
            "Mean Absolute Error (MAE): 2.5623941681434097\n"
          ]
        }
      ],
      "source": [
        "def main():\n",
        "    db_path = '/content/puzzle_database.db'\n",
        "\n",
        "    # Load data from the database\n",
        "    df = load_data_from_db(db_path)\n",
        "\n",
        "    # Preprocess the data\n",
        "    X, y = preprocess_data_with_additional_features(df)\n",
        "\n",
        "    # Use only 'correct_row' as the feature for training\n",
        "    X_train, X_test, y_train, y_test = split_data(X[['correct_row']], y)  # Selecting only 'correct_row'\n",
        "\n",
        "    # Train Decision Tree Regressor\n",
        "    dt_model = train_decision_tree(X_train, y_train)\n",
        "\n",
        "    # Evaluate the Decision Tree model\n",
        "    evaluate_model(dt_model, X_test, y_test)\n",
        "\n",
        "if __name__ == \"__main__\":\n",
        "    main()\n"
      ]
    },
    {
      "cell_type": "markdown",
      "metadata": {
        "id": "QGf8_8NBbetB"
      },
      "source": [
        "# Decision Tree Regressor with Correct Column"
      ]
    },
    {
      "cell_type": "code",
      "execution_count": null,
      "metadata": {
        "colab": {
          "base_uri": "https://localhost:8080/"
        },
        "id": "gePjbdMqb9Y7",
        "outputId": "777c8917-1af6-49f3-8c08-dd98584ed673"
      },
      "outputs": [
        {
          "name": "stdout",
          "output_type": "stream",
          "text": [
            "Mean Squared Error (MSE): 10.61023082283117\n",
            "Mean Absolute Error (MAE): 2.562381009028262\n"
          ]
        }
      ],
      "source": [
        "def main():\n",
        "    db_path = '/content/puzzle_database.db'\n",
        "\n",
        "    # Load data from the database\n",
        "    df = load_data_from_db(db_path)\n",
        "\n",
        "    # Preprocess the data\n",
        "    X, y = preprocess_data_with_additional_features(df)\n",
        "\n",
        "    # Use only 'correct_column' as the feature for training\n",
        "    X_train, X_test, y_train, y_test = split_data(X[['correct_column']], y)  # Selecting only 'correct_column'\n",
        "\n",
        "    # Train Decision Tree Regressor\n",
        "    dt_model = train_decision_tree(X_train, y_train)\n",
        "\n",
        "    # Evaluate the Decision Tree model\n",
        "    evaluate_model(dt_model, X_test, y_test)\n",
        "\n",
        "if __name__ == \"__main__\":\n",
        "    main()\n"
      ]
    },
    {
      "cell_type": "markdown",
      "metadata": {
        "id": "EAELA3gxeKu2"
      },
      "source": [
        "# Random Forest"
      ]
    },
    {
      "cell_type": "markdown",
      "metadata": {
        "id": "zUBAz08meOJ9"
      },
      "source": [
        "# Trained with Random Forest with Manhattan distance"
      ]
    },
    {
      "cell_type": "code",
      "execution_count": null,
      "metadata": {
        "colab": {
          "base_uri": "https://localhost:8080/"
        },
        "id": "dDY9kNGbewd_",
        "outputId": "2446fc54-1700-4a65-a29b-9f0f413cb8ae"
      },
      "outputs": [
        {
          "name": "stdout",
          "output_type": "stream",
          "text": [
            "Mean Squared Error (MSE): 7.668732109293468\n",
            "Mean Absolute Error (MAE): 2.195285258510113\n"
          ]
        }
      ],
      "source": [
        "from sklearn.ensemble import RandomForestRegressor\n",
        "from sklearn.metrics import mean_squared_error, mean_absolute_error\n",
        "\n",
        "# Train a Random Forest Regressor\n",
        "def train_random_forest(X_train, y_train):\n",
        "    model = RandomForestRegressor(n_estimators=100, random_state=42)\n",
        "    model.fit(X_train, y_train)\n",
        "    return model\n",
        "\n",
        "# Evaluate the Model\n",
        "def evaluate_model(model, X_test, y_test):\n",
        "    y_pred = model.predict(X_test)\n",
        "\n",
        "    # Calculate Mean Squared Error and Mean Absolute Error\n",
        "    mse = mean_squared_error(y_test, y_pred)\n",
        "    mae = mean_absolute_error(y_test, y_pred)\n",
        "\n",
        "    print(f\"Mean Squared Error (MSE): {mse}\")\n",
        "    print(f\"Mean Absolute Error (MAE): {mae}\")\n",
        "\n",
        "# Main function to load data, preprocess, train, and evaluate\n",
        "def main():\n",
        "    # Make sure you've uploaded your SQLite database file in Colab\n",
        "    db_path = '/content/puzzle_database.db'\n",
        "\n",
        "    # Load data from the database\n",
        "    df = load_data_from_db(db_path)\n",
        "\n",
        "    # Preprocess the data\n",
        "    X, y = preprocess_data_with_additional_features(df)\n",
        "\n",
        "    # Use only 'manhattan_distance' as the feature for training\n",
        "    X_train, X_test, y_train, y_test = split_data(X[['manhattan_distance']], y)  # Selecting only 'manhattan_distance'\n",
        "\n",
        "    # Train Random Forest Regressor\n",
        "    rf_model = train_random_forest(X_train, y_train)\n",
        "\n",
        "    # Evaluate the Random Forest model\n",
        "    evaluate_model(rf_model, X_test, y_test)\n",
        "\n",
        "if __name__ == \"__main__\":\n",
        "    main()\n"
      ]
    },
    {
      "cell_type": "markdown",
      "metadata": {
        "id": "58S_9Y_CePQp"
      },
      "source": [
        "# Trained with Random Forest with Misplaced tiles"
      ]
    },
    {
      "cell_type": "code",
      "execution_count": null,
      "metadata": {
        "colab": {
          "base_uri": "https://localhost:8080/"
        },
        "id": "PrdlKjd4exJQ",
        "outputId": "c77eda24-19a6-4ce2-e013-c691868b93d9"
      },
      "outputs": [
        {
          "name": "stdout",
          "output_type": "stream",
          "text": [
            "Mean Squared Error (MSE): 10.605190083191088\n",
            "Mean Absolute Error (MAE): 2.563266759216394\n"
          ]
        }
      ],
      "source": [
        "def main():\n",
        "    # Make sure you've uploaded your SQLite database file in Colab\n",
        "    db_path = '/content/puzzle_database.db'\n",
        "\n",
        "    # Load data from the database\n",
        "    df = load_data_from_db(db_path)\n",
        "\n",
        "    # Preprocess the data\n",
        "    X, y = preprocess_data_with_additional_features(df)\n",
        "\n",
        "    # Use only 'misplaced_tiles' as the feature for training\n",
        "    X_train, X_test, y_train, y_test = split_data(X[['misplaced_tiles']], y)  # Selecting only 'misplaced_tiles'\n",
        "\n",
        "    # Train Random Forest Regressor\n",
        "    rf_model = train_random_forest(X_train, y_train)\n",
        "\n",
        "    # Evaluate the Random Forest model\n",
        "    evaluate_model(rf_model, X_test, y_test)\n",
        "\n",
        "if __name__ == \"__main__\":\n",
        "    main()\n"
      ]
    },
    {
      "cell_type": "markdown",
      "metadata": {
        "id": "MfffkDvCePmF"
      },
      "source": [
        "# Trained with Random Forest with Correct Row"
      ]
    },
    {
      "cell_type": "code",
      "execution_count": null,
      "metadata": {
        "colab": {
          "base_uri": "https://localhost:8080/"
        },
        "id": "XJIzZAfAexzW",
        "outputId": "86a8d595-7e2f-4195-8e69-73d575c5d480"
      },
      "outputs": [
        {
          "name": "stdout",
          "output_type": "stream",
          "text": [
            "Mean Squared Error (MSE): 10.600325188090807\n",
            "Mean Absolute Error (MAE): 2.5623084961183533\n"
          ]
        }
      ],
      "source": [
        "def main():\n",
        "    # Make sure you've uploaded your SQLite database file in Colab\n",
        "    db_path = '/content/puzzle_database.db'\n",
        "\n",
        "    # Load data from the database\n",
        "    df = load_data_from_db(db_path)\n",
        "\n",
        "    # Preprocess the data\n",
        "    X, y = preprocess_data_with_additional_features(df)\n",
        "\n",
        "    # Use only 'correct_row' as the feature for training\n",
        "    X_train, X_test, y_train, y_test = split_data(X[['correct_row']], y)  # Selecting only 'correct_row'\n",
        "\n",
        "    # Train Random Forest Regressor\n",
        "    rf_model = train_random_forest(X_train, y_train)\n",
        "\n",
        "    # Evaluate the Random Forest model\n",
        "    evaluate_model(rf_model, X_test, y_test)\n",
        "\n",
        "if __name__ == \"__main__\":\n",
        "    main()\n"
      ]
    },
    {
      "cell_type": "markdown",
      "metadata": {
        "id": "Yd32w6f_eP4q"
      },
      "source": [
        "# Trained with Random Forest with Correct Column"
      ]
    },
    {
      "cell_type": "code",
      "execution_count": null,
      "metadata": {
        "colab": {
          "base_uri": "https://localhost:8080/"
        },
        "id": "Ozml23x3e2It",
        "outputId": "d590e4b4-3cf5-4c5c-b00f-2566da6f8688"
      },
      "outputs": [
        {
          "name": "stdout",
          "output_type": "stream",
          "text": [
            "Mean Squared Error (MSE): 10.610252388086034\n",
            "Mean Absolute Error (MAE): 2.5623683461871236\n"
          ]
        }
      ],
      "source": [
        "def main():\n",
        "    # Make sure you've uploaded your SQLite database file in Colab\n",
        "    db_path = '/content/puzzle_database.db'\n",
        "\n",
        "    # Load data from the database\n",
        "    df = load_data_from_db(db_path)\n",
        "\n",
        "    # Preprocess the data\n",
        "    X, y = preprocess_data_with_additional_features(df)\n",
        "\n",
        "    # Use only 'correct_column' as the feature for training\n",
        "    X_train, X_test, y_train, y_test = split_data(X[['correct_column']], y)  # Selecting only 'correct_column'\n",
        "\n",
        "    # Train Random Forest Regressor\n",
        "    rf_model = train_random_forest(X_train, y_train)\n",
        "\n",
        "    # Evaluate the Random Forest model\n",
        "    evaluate_model(rf_model, X_test, y_test)\n",
        "\n",
        "if __name__ == \"__main__\":\n",
        "    main()\n"
      ]
    },
    {
      "cell_type": "markdown",
      "metadata": {
        "id": "60w8cgHUhWcX"
      },
      "source": [
        "# Neural Network"
      ]
    },
    {
      "cell_type": "markdown",
      "metadata": {
        "id": "KabR9tRmhnmX"
      },
      "source": [
        "# Neural Network with Manhattan distance"
      ]
    },
    {
      "cell_type": "code",
      "execution_count": null,
      "metadata": {
        "colab": {
          "base_uri": "https://localhost:8080/"
        },
        "id": "vfTp-w-GiG8d",
        "outputId": "79b0a677-9d97-424f-e8dd-ddf7dd40373d"
      },
      "outputs": [
        {
          "name": "stderr",
          "output_type": "stream",
          "text": [
            "/usr/local/lib/python3.10/dist-packages/keras/src/layers/core/dense.py:87: UserWarning: Do not pass an `input_shape`/`input_dim` argument to a layer. When using Sequential models, prefer using an `Input(shape)` object as the first layer in the model instead.\n",
            "  super().__init__(activity_regularizer=activity_regularizer, **kwargs)\n"
          ]
        },
        {
          "name": "stdout",
          "output_type": "stream",
          "text": [
            "Epoch 1/20\n",
            "\u001b[1m4536/4536\u001b[0m \u001b[32m━━━━━━━━━━━━━━━━━━━━\u001b[0m\u001b[37m\u001b[0m \u001b[1m10s\u001b[0m 2ms/step - loss: 58.1933 - mean_absolute_error: 4.6703\n",
            "Epoch 2/20\n",
            "\u001b[1m4536/4536\u001b[0m \u001b[32m━━━━━━━━━━━━━━━━━━━━\u001b[0m\u001b[37m\u001b[0m \u001b[1m10s\u001b[0m 2ms/step - loss: 7.8370 - mean_absolute_error: 2.2186\n",
            "Epoch 3/20\n",
            "\u001b[1m4536/4536\u001b[0m \u001b[32m━━━━━━━━━━━━━━━━━━━━\u001b[0m\u001b[37m\u001b[0m \u001b[1m10s\u001b[0m 2ms/step - loss: 7.8327 - mean_absolute_error: 2.2176\n",
            "Epoch 4/20\n",
            "\u001b[1m4536/4536\u001b[0m \u001b[32m━━━━━━━━━━━━━━━━━━━━\u001b[0m\u001b[37m\u001b[0m \u001b[1m8s\u001b[0m 2ms/step - loss: 7.8317 - mean_absolute_error: 2.2155\n",
            "Epoch 5/20\n",
            "\u001b[1m4536/4536\u001b[0m \u001b[32m━━━━━━━━━━━━━━━━━━━━\u001b[0m\u001b[37m\u001b[0m \u001b[1m12s\u001b[0m 2ms/step - loss: 7.7865 - mean_absolute_error: 2.2085\n",
            "Epoch 6/20\n",
            "\u001b[1m4536/4536\u001b[0m \u001b[32m━━━━━━━━━━━━━━━━━━━━\u001b[0m\u001b[37m\u001b[0m \u001b[1m10s\u001b[0m 2ms/step - loss: 7.7917 - mean_absolute_error: 2.2134\n",
            "Epoch 7/20\n",
            "\u001b[1m4536/4536\u001b[0m \u001b[32m━━━━━━━━━━━━━━━━━━━━\u001b[0m\u001b[37m\u001b[0m \u001b[1m8s\u001b[0m 2ms/step - loss: 7.8809 - mean_absolute_error: 2.2196\n",
            "Epoch 8/20\n",
            "\u001b[1m4536/4536\u001b[0m \u001b[32m━━━━━━━━━━━━━━━━━━━━\u001b[0m\u001b[37m\u001b[0m \u001b[1m10s\u001b[0m 2ms/step - loss: 7.8016 - mean_absolute_error: 2.2157\n",
            "Epoch 9/20\n",
            "\u001b[1m4536/4536\u001b[0m \u001b[32m━━━━━━━━━━━━━━━━━━━━\u001b[0m\u001b[37m\u001b[0m \u001b[1m10s\u001b[0m 2ms/step - loss: 7.8348 - mean_absolute_error: 2.2189\n",
            "Epoch 10/20\n",
            "\u001b[1m4536/4536\u001b[0m \u001b[32m━━━━━━━━━━━━━━━━━━━━\u001b[0m\u001b[37m\u001b[0m \u001b[1m9s\u001b[0m 2ms/step - loss: 7.7902 - mean_absolute_error: 2.2076\n",
            "Epoch 11/20\n",
            "\u001b[1m4536/4536\u001b[0m \u001b[32m━━━━━━━━━━━━━━━━━━━━\u001b[0m\u001b[37m\u001b[0m \u001b[1m9s\u001b[0m 2ms/step - loss: 7.7839 - mean_absolute_error: 2.2096\n",
            "Epoch 12/20\n",
            "\u001b[1m4536/4536\u001b[0m \u001b[32m━━━━━━━━━━━━━━━━━━━━\u001b[0m\u001b[37m\u001b[0m \u001b[1m10s\u001b[0m 2ms/step - loss: 7.7648 - mean_absolute_error: 2.2055\n",
            "Epoch 13/20\n",
            "\u001b[1m4536/4536\u001b[0m \u001b[32m━━━━━━━━━━━━━━━━━━━━\u001b[0m\u001b[37m\u001b[0m \u001b[1m11s\u001b[0m 2ms/step - loss: 7.8346 - mean_absolute_error: 2.2152\n",
            "Epoch 14/20\n",
            "\u001b[1m4536/4536\u001b[0m \u001b[32m━━━━━━━━━━━━━━━━━━━━\u001b[0m\u001b[37m\u001b[0m \u001b[1m10s\u001b[0m 2ms/step - loss: 7.7959 - mean_absolute_error: 2.2112\n",
            "Epoch 15/20\n",
            "\u001b[1m4536/4536\u001b[0m \u001b[32m━━━━━━━━━━━━━━━━━━━━\u001b[0m\u001b[37m\u001b[0m \u001b[1m8s\u001b[0m 2ms/step - loss: 7.7818 - mean_absolute_error: 2.2109\n",
            "Epoch 16/20\n",
            "\u001b[1m4536/4536\u001b[0m \u001b[32m━━━━━━━━━━━━━━━━━━━━\u001b[0m\u001b[37m\u001b[0m \u001b[1m11s\u001b[0m 2ms/step - loss: 7.8096 - mean_absolute_error: 2.2109\n",
            "Epoch 17/20\n",
            "\u001b[1m4536/4536\u001b[0m \u001b[32m━━━━━━━━━━━━━━━━━━━━\u001b[0m\u001b[37m\u001b[0m \u001b[1m10s\u001b[0m 2ms/step - loss: 7.7947 - mean_absolute_error: 2.2098\n",
            "Epoch 18/20\n",
            "\u001b[1m4536/4536\u001b[0m \u001b[32m━━━━━━━━━━━━━━━━━━━━\u001b[0m\u001b[37m\u001b[0m \u001b[1m9s\u001b[0m 2ms/step - loss: 7.8153 - mean_absolute_error: 2.2135\n",
            "Epoch 19/20\n",
            "\u001b[1m4536/4536\u001b[0m \u001b[32m━━━━━━━━━━━━━━━━━━━━\u001b[0m\u001b[37m\u001b[0m \u001b[1m9s\u001b[0m 2ms/step - loss: 7.8428 - mean_absolute_error: 2.2202\n",
            "Epoch 20/20\n",
            "\u001b[1m4536/4536\u001b[0m \u001b[32m━━━━━━━━━━━━━━━━━━━━\u001b[0m\u001b[37m\u001b[0m \u001b[1m12s\u001b[0m 2ms/step - loss: 7.8256 - mean_absolute_error: 2.2125\n",
            "\u001b[1m1134/1134\u001b[0m \u001b[32m━━━━━━━━━━━━━━━━━━━━\u001b[0m\u001b[37m\u001b[0m \u001b[1m2s\u001b[0m 2ms/step\n",
            "Mean Squared Error (MSE): 7.722406848592755\n",
            "Mean Absolute Error (MAE): 2.1991732130894794\n"
          ]
        }
      ],
      "source": [
        "from tensorflow.keras.models import Sequential\n",
        "from tensorflow.keras.layers import Dense\n",
        "from sklearn.metrics import mean_squared_error, mean_absolute_error\n",
        "from sklearn.preprocessing import StandardScaler\n",
        "\n",
        "# Train a Neural Network (Multilayer Perceptron)\n",
        "def train_neural_network(X_train, y_train):\n",
        "    model = Sequential()\n",
        "\n",
        "    # Add layers to the neural network\n",
        "    model.add(Dense(64, input_dim=X_train.shape[1], activation='relu'))  # First hidden layer\n",
        "    model.add(Dense(32, activation='relu'))  # Second hidden layer\n",
        "    model.add(Dense(1))  # Output layer for regression\n",
        "\n",
        "    # Compile the model with MSE loss and Adam optimizer\n",
        "    model.compile(optimizer='adam', loss='mean_squared_error', metrics=['mean_absolute_error'])\n",
        "\n",
        "    # Train the model\n",
        "    model.fit(X_train, y_train, epochs=20, batch_size=32, verbose=1)\n",
        "\n",
        "    return model\n",
        "\n",
        "# Evaluate the Model\n",
        "def evaluate_model(model, X_test, y_test):\n",
        "    y_pred = model.predict(X_test)\n",
        "\n",
        "    # Calculate Mean Squared Error and Mean Absolute Error\n",
        "    mse = mean_squared_error(y_test, y_pred)\n",
        "    mae = mean_absolute_error(y_test, y_pred)\n",
        "\n",
        "    print(f\"Mean Squared Error (MSE): {mse}\")\n",
        "    print(f\"Mean Absolute Error (MAE): {mae}\")\n",
        "\n",
        "# Main function to load data, preprocess, train, and evaluate\n",
        "def main():\n",
        "    # Make sure you've uploaded your SQLite database file in Colab\n",
        "    db_path = '/content/puzzle_database.db'\n",
        "\n",
        "    # Load data from the database\n",
        "    df = load_data_from_db(db_path)\n",
        "\n",
        "    # Preprocess the data\n",
        "    X, y = preprocess_data_with_additional_features(df)\n",
        "\n",
        "    # Use only 'manhattan_distance' as the feature for training\n",
        "    X_train, X_test, y_train, y_test = split_data(X[['manhattan_distance']], y)  # Selecting only 'manhattan_distance'\n",
        "\n",
        "    # Standardize the data (Neural Networks often require scaled data)\n",
        "    scaler = StandardScaler()\n",
        "    X_train_scaled = scaler.fit_transform(X_train)\n",
        "    X_test_scaled = scaler.transform(X_test)\n",
        "\n",
        "    # Train Neural Network\n",
        "    nn_model = train_neural_network(X_train_scaled, y_train)\n",
        "\n",
        "    # Evaluate the Neural Network model\n",
        "    evaluate_model(nn_model, X_test_scaled, y_test)\n",
        "\n",
        "if __name__ == \"__main__\":\n",
        "    main()\n"
      ]
    },
    {
      "cell_type": "markdown",
      "metadata": {
        "id": "-d2sBW9Ihz4r"
      },
      "source": [
        "# Neural Network with Misplaced tiles"
      ]
    },
    {
      "cell_type": "code",
      "execution_count": null,
      "metadata": {
        "colab": {
          "base_uri": "https://localhost:8080/"
        },
        "id": "bqaCimumiHqX",
        "outputId": "ea3509d3-87a2-4d72-aaed-17f1901c8c13"
      },
      "outputs": [
        {
          "name": "stdout",
          "output_type": "stream",
          "text": [
            "Epoch 1/20\n"
          ]
        },
        {
          "name": "stderr",
          "output_type": "stream",
          "text": [
            "/usr/local/lib/python3.10/dist-packages/keras/src/layers/core/dense.py:87: UserWarning: Do not pass an `input_shape`/`input_dim` argument to a layer. When using Sequential models, prefer using an `Input(shape)` object as the first layer in the model instead.\n",
            "  super().__init__(activity_regularizer=activity_regularizer, **kwargs)\n"
          ]
        },
        {
          "name": "stdout",
          "output_type": "stream",
          "text": [
            "\u001b[1m4536/4536\u001b[0m \u001b[32m━━━━━━━━━━━━━━━━━━━━\u001b[0m\u001b[37m\u001b[0m \u001b[1m11s\u001b[0m 2ms/step - loss: 70.6709 - mean_absolute_error: 5.3470\n",
            "Epoch 2/20\n",
            "\u001b[1m4536/4536\u001b[0m \u001b[32m━━━━━━━━━━━━━━━━━━━━\u001b[0m\u001b[37m\u001b[0m \u001b[1m10s\u001b[0m 2ms/step - loss: 10.6848 - mean_absolute_error: 2.5759\n",
            "Epoch 3/20\n",
            "\u001b[1m4536/4536\u001b[0m \u001b[32m━━━━━━━━━━━━━━━━━━━━\u001b[0m\u001b[37m\u001b[0m \u001b[1m8s\u001b[0m 2ms/step - loss: 10.7170 - mean_absolute_error: 2.5779\n",
            "Epoch 4/20\n",
            "\u001b[1m4536/4536\u001b[0m \u001b[32m━━━━━━━━━━━━━━━━━━━━\u001b[0m\u001b[37m\u001b[0m \u001b[1m9s\u001b[0m 2ms/step - loss: 10.6040 - mean_absolute_error: 2.5648\n",
            "Epoch 5/20\n",
            "\u001b[1m4536/4536\u001b[0m \u001b[32m━━━━━━━━━━━━━━━━━━━━\u001b[0m\u001b[37m\u001b[0m \u001b[1m10s\u001b[0m 2ms/step - loss: 10.6750 - mean_absolute_error: 2.5780\n",
            "Epoch 6/20\n",
            "\u001b[1m4536/4536\u001b[0m \u001b[32m━━━━━━━━━━━━━━━━━━━━\u001b[0m\u001b[37m\u001b[0m \u001b[1m9s\u001b[0m 2ms/step - loss: 10.6325 - mean_absolute_error: 2.5667\n",
            "Epoch 7/20\n",
            "\u001b[1m4536/4536\u001b[0m \u001b[32m━━━━━━━━━━━━━━━━━━━━\u001b[0m\u001b[37m\u001b[0m \u001b[1m11s\u001b[0m 2ms/step - loss: 10.7217 - mean_absolute_error: 2.5749\n",
            "Epoch 8/20\n",
            "\u001b[1m4536/4536\u001b[0m \u001b[32m━━━━━━━━━━━━━━━━━━━━\u001b[0m\u001b[37m\u001b[0m \u001b[1m10s\u001b[0m 2ms/step - loss: 10.7027 - mean_absolute_error: 2.5776\n",
            "Epoch 9/20\n",
            "\u001b[1m4536/4536\u001b[0m \u001b[32m━━━━━━━━━━━━━━━━━━━━\u001b[0m\u001b[37m\u001b[0m \u001b[1m8s\u001b[0m 2ms/step - loss: 10.6869 - mean_absolute_error: 2.5751\n",
            "Epoch 10/20\n",
            "\u001b[1m4536/4536\u001b[0m \u001b[32m━━━━━━━━━━━━━━━━━━━━\u001b[0m\u001b[37m\u001b[0m \u001b[1m9s\u001b[0m 2ms/step - loss: 10.6297 - mean_absolute_error: 2.5681\n",
            "Epoch 11/20\n",
            "\u001b[1m4536/4536\u001b[0m \u001b[32m━━━━━━━━━━━━━━━━━━━━\u001b[0m\u001b[37m\u001b[0m \u001b[1m7s\u001b[0m 2ms/step - loss: 10.6119 - mean_absolute_error: 2.5673\n",
            "Epoch 12/20\n",
            "\u001b[1m4536/4536\u001b[0m \u001b[32m━━━━━━━━━━━━━━━━━━━━\u001b[0m\u001b[37m\u001b[0m \u001b[1m9s\u001b[0m 2ms/step - loss: 10.6614 - mean_absolute_error: 2.5725\n",
            "Epoch 13/20\n",
            "\u001b[1m4536/4536\u001b[0m \u001b[32m━━━━━━━━━━━━━━━━━━━━\u001b[0m\u001b[37m\u001b[0m \u001b[1m10s\u001b[0m 2ms/step - loss: 10.6979 - mean_absolute_error: 2.5770\n",
            "Epoch 14/20\n",
            "\u001b[1m4536/4536\u001b[0m \u001b[32m━━━━━━━━━━━━━━━━━━━━\u001b[0m\u001b[37m\u001b[0m \u001b[1m8s\u001b[0m 2ms/step - loss: 10.6465 - mean_absolute_error: 2.5702\n",
            "Epoch 15/20\n",
            "\u001b[1m4536/4536\u001b[0m \u001b[32m━━━━━━━━━━━━━━━━━━━━\u001b[0m\u001b[37m\u001b[0m \u001b[1m9s\u001b[0m 2ms/step - loss: 10.6151 - mean_absolute_error: 2.5664\n",
            "Epoch 16/20\n",
            "\u001b[1m4536/4536\u001b[0m \u001b[32m━━━━━━━━━━━━━━━━━━━━\u001b[0m\u001b[37m\u001b[0m \u001b[1m9s\u001b[0m 2ms/step - loss: 10.6892 - mean_absolute_error: 2.5775\n",
            "Epoch 17/20\n",
            "\u001b[1m4536/4536\u001b[0m \u001b[32m━━━━━━━━━━━━━━━━━━━━\u001b[0m\u001b[37m\u001b[0m \u001b[1m7s\u001b[0m 2ms/step - loss: 10.7056 - mean_absolute_error: 2.5804\n",
            "Epoch 18/20\n",
            "\u001b[1m4536/4536\u001b[0m \u001b[32m━━━━━━━━━━━━━━━━━━━━\u001b[0m\u001b[37m\u001b[0m \u001b[1m9s\u001b[0m 2ms/step - loss: 10.6973 - mean_absolute_error: 2.5733\n",
            "Epoch 19/20\n",
            "\u001b[1m4536/4536\u001b[0m \u001b[32m━━━━━━━━━━━━━━━━━━━━\u001b[0m\u001b[37m\u001b[0m \u001b[1m11s\u001b[0m 2ms/step - loss: 10.6132 - mean_absolute_error: 2.5663\n",
            "Epoch 20/20\n",
            "\u001b[1m4536/4536\u001b[0m \u001b[32m━━━━━━━━━━━━━━━━━━━━\u001b[0m\u001b[37m\u001b[0m \u001b[1m8s\u001b[0m 2ms/step - loss: 10.6396 - mean_absolute_error: 2.5730\n",
            "\u001b[1m1134/1134\u001b[0m \u001b[32m━━━━━━━━━━━━━━━━━━━━\u001b[0m\u001b[37m\u001b[0m \u001b[1m2s\u001b[0m 2ms/step\n",
            "Mean Squared Error (MSE): 10.670801120246365\n",
            "Mean Absolute Error (MAE): 2.568518083982787\n"
          ]
        }
      ],
      "source": [
        "def main():\n",
        "    # Make sure you've uploaded your SQLite database file in Colab\n",
        "    db_path = '/content/puzzle_database.db'\n",
        "\n",
        "    # Load data from the database\n",
        "    df = load_data_from_db(db_path)\n",
        "\n",
        "    # Preprocess the data\n",
        "    X, y = preprocess_data_with_additional_features(df)\n",
        "\n",
        "    # Use only 'misplaced_tiles' as the feature for training\n",
        "    X_train, X_test, y_train, y_test = split_data(X[['misplaced_tiles']], y)  # Selecting only 'misplaced_tiles'\n",
        "\n",
        "    # Standardize the data\n",
        "    scaler = StandardScaler()\n",
        "    X_train_scaled = scaler.fit_transform(X_train)\n",
        "    X_test_scaled = scaler.transform(X_test)\n",
        "\n",
        "    # Train Neural Network\n",
        "    nn_model = train_neural_network(X_train_scaled, y_train)\n",
        "\n",
        "    # Evaluate the Neural Network model\n",
        "    evaluate_model(nn_model, X_test_scaled, y_test)\n",
        "\n",
        "if __name__ == \"__main__\":\n",
        "    main()\n"
      ]
    },
    {
      "cell_type": "markdown",
      "metadata": {
        "id": "EkiUD3-Gh1_8"
      },
      "source": [
        "# Neural Network with Correct Row"
      ]
    },
    {
      "cell_type": "code",
      "execution_count": null,
      "metadata": {
        "colab": {
          "base_uri": "https://localhost:8080/"
        },
        "id": "mXJiaEhfiIu7",
        "outputId": "9b19d973-5c66-4d2b-ae3f-7ce20eec9d85"
      },
      "outputs": [
        {
          "name": "stdout",
          "output_type": "stream",
          "text": [
            "Epoch 1/20\n"
          ]
        },
        {
          "name": "stderr",
          "output_type": "stream",
          "text": [
            "/usr/local/lib/python3.10/dist-packages/keras/src/layers/core/dense.py:87: UserWarning: Do not pass an `input_shape`/`input_dim` argument to a layer. When using Sequential models, prefer using an `Input(shape)` object as the first layer in the model instead.\n",
            "  super().__init__(activity_regularizer=activity_regularizer, **kwargs)\n"
          ]
        },
        {
          "name": "stdout",
          "output_type": "stream",
          "text": [
            "\u001b[1m4536/4536\u001b[0m \u001b[32m━━━━━━━━━━━━━━━━━━━━\u001b[0m\u001b[37m\u001b[0m \u001b[1m10s\u001b[0m 2ms/step - loss: 62.6032 - mean_absolute_error: 5.0744\n",
            "Epoch 2/20\n",
            "\u001b[1m4536/4536\u001b[0m \u001b[32m━━━━━━━━━━━━━━━━━━━━\u001b[0m\u001b[37m\u001b[0m \u001b[1m9s\u001b[0m 2ms/step - loss: 10.7255 - mean_absolute_error: 2.5794\n",
            "Epoch 3/20\n",
            "\u001b[1m4536/4536\u001b[0m \u001b[32m━━━━━━━━━━━━━━━━━━━━\u001b[0m\u001b[37m\u001b[0m \u001b[1m10s\u001b[0m 2ms/step - loss: 10.6422 - mean_absolute_error: 2.5731\n",
            "Epoch 4/20\n",
            "\u001b[1m4536/4536\u001b[0m \u001b[32m━━━━━━━━━━━━━━━━━━━━\u001b[0m\u001b[37m\u001b[0m \u001b[1m12s\u001b[0m 2ms/step - loss: 10.7820 - mean_absolute_error: 2.5836\n",
            "Epoch 5/20\n",
            "\u001b[1m4536/4536\u001b[0m \u001b[32m━━━━━━━━━━━━━━━━━━━━\u001b[0m\u001b[37m\u001b[0m \u001b[1m9s\u001b[0m 2ms/step - loss: 10.7610 - mean_absolute_error: 2.5810\n",
            "Epoch 6/20\n",
            "\u001b[1m4536/4536\u001b[0m \u001b[32m━━━━━━━━━━━━━━━━━━━━\u001b[0m\u001b[37m\u001b[0m \u001b[1m7s\u001b[0m 2ms/step - loss: 10.7896 - mean_absolute_error: 2.5845\n",
            "Epoch 7/20\n",
            "\u001b[1m4536/4536\u001b[0m \u001b[32m━━━━━━━━━━━━━━━━━━━━\u001b[0m\u001b[37m\u001b[0m \u001b[1m11s\u001b[0m 2ms/step - loss: 10.7241 - mean_absolute_error: 2.5768\n",
            "Epoch 8/20\n",
            "\u001b[1m4536/4536\u001b[0m \u001b[32m━━━━━━━━━━━━━━━━━━━━\u001b[0m\u001b[37m\u001b[0m \u001b[1m11s\u001b[0m 2ms/step - loss: 10.6960 - mean_absolute_error: 2.5760\n",
            "Epoch 9/20\n",
            "\u001b[1m4536/4536\u001b[0m \u001b[32m━━━━━━━━━━━━━━━━━━━━\u001b[0m\u001b[37m\u001b[0m \u001b[1m8s\u001b[0m 2ms/step - loss: 10.7569 - mean_absolute_error: 2.5829\n",
            "Epoch 10/20\n",
            "\u001b[1m4536/4536\u001b[0m \u001b[32m━━━━━━━━━━━━━━━━━━━━\u001b[0m\u001b[37m\u001b[0m \u001b[1m9s\u001b[0m 2ms/step - loss: 10.7520 - mean_absolute_error: 2.5792\n",
            "Epoch 11/20\n",
            "\u001b[1m4536/4536\u001b[0m \u001b[32m━━━━━━━━━━━━━━━━━━━━\u001b[0m\u001b[37m\u001b[0m \u001b[1m9s\u001b[0m 2ms/step - loss: 10.6979 - mean_absolute_error: 2.5768\n",
            "Epoch 12/20\n",
            "\u001b[1m4536/4536\u001b[0m \u001b[32m━━━━━━━━━━━━━━━━━━━━\u001b[0m\u001b[37m\u001b[0m \u001b[1m7s\u001b[0m 2ms/step - loss: 10.6501 - mean_absolute_error: 2.5681\n",
            "Epoch 13/20\n",
            "\u001b[1m4536/4536\u001b[0m \u001b[32m━━━━━━━━━━━━━━━━━━━━\u001b[0m\u001b[37m\u001b[0m \u001b[1m11s\u001b[0m 2ms/step - loss: 10.7681 - mean_absolute_error: 2.5871\n",
            "Epoch 14/20\n",
            "\u001b[1m4536/4536\u001b[0m \u001b[32m━━━━━━━━━━━━━━━━━━━━\u001b[0m\u001b[37m\u001b[0m \u001b[1m11s\u001b[0m 2ms/step - loss: 10.7596 - mean_absolute_error: 2.5802\n",
            "Epoch 15/20\n",
            "\u001b[1m4536/4536\u001b[0m \u001b[32m━━━━━━━━━━━━━━━━━━━━\u001b[0m\u001b[37m\u001b[0m \u001b[1m7s\u001b[0m 2ms/step - loss: 10.6687 - mean_absolute_error: 2.5789\n",
            "Epoch 16/20\n",
            "\u001b[1m4536/4536\u001b[0m \u001b[32m━━━━━━━━━━━━━━━━━━━━\u001b[0m\u001b[37m\u001b[0m \u001b[1m10s\u001b[0m 2ms/step - loss: 10.7204 - mean_absolute_error: 2.5804\n",
            "Epoch 17/20\n",
            "\u001b[1m4536/4536\u001b[0m \u001b[32m━━━━━━━━━━━━━━━━━━━━\u001b[0m\u001b[37m\u001b[0m \u001b[1m10s\u001b[0m 2ms/step - loss: 10.6910 - mean_absolute_error: 2.5757\n",
            "Epoch 18/20\n",
            "\u001b[1m4536/4536\u001b[0m \u001b[32m━━━━━━━━━━━━━━━━━━━━\u001b[0m\u001b[37m\u001b[0m \u001b[1m8s\u001b[0m 2ms/step - loss: 10.6827 - mean_absolute_error: 2.5771\n",
            "Epoch 19/20\n",
            "\u001b[1m4536/4536\u001b[0m \u001b[32m━━━━━━━━━━━━━━━━━━━━\u001b[0m\u001b[37m\u001b[0m \u001b[1m8s\u001b[0m 2ms/step - loss: 10.7572 - mean_absolute_error: 2.5849\n",
            "Epoch 20/20\n",
            "\u001b[1m4536/4536\u001b[0m \u001b[32m━━━━━━━━━━━━━━━━━━━━\u001b[0m\u001b[37m\u001b[0m \u001b[1m10s\u001b[0m 2ms/step - loss: 10.7082 - mean_absolute_error: 2.5787\n",
            "\u001b[1m1134/1134\u001b[0m \u001b[32m━━━━━━━━━━━━━━━━━━━━\u001b[0m\u001b[37m\u001b[0m \u001b[1m1s\u001b[0m 1ms/step\n",
            "Mean Squared Error (MSE): 10.63229338723797\n",
            "Mean Absolute Error (MAE): 2.5783332227293987\n"
          ]
        }
      ],
      "source": [
        "def main():\n",
        "    # Make sure you've uploaded your SQLite database file in Colab\n",
        "    db_path = '/content/puzzle_database.db'\n",
        "\n",
        "    # Load data from the database\n",
        "    df = load_data_from_db(db_path)\n",
        "\n",
        "    # Preprocess the data\n",
        "    X, y = preprocess_data_with_additional_features(df)\n",
        "\n",
        "    # Use only 'correct_row' as the feature for training\n",
        "    X_train, X_test, y_train, y_test = split_data(X[['correct_row']], y)  # Selecting only 'correct_row'\n",
        "\n",
        "    # Standardize the data\n",
        "    scaler = StandardScaler()\n",
        "    X_train_scaled = scaler.fit_transform(X_train)\n",
        "    X_test_scaled = scaler.transform(X_test)\n",
        "\n",
        "    # Train Neural Network\n",
        "    nn_model = train_neural_network(X_train_scaled, y_train)\n",
        "\n",
        "    # Evaluate the Neural Network model\n",
        "    evaluate_model(nn_model, X_test_scaled, y_test)\n",
        "\n",
        "if __name__ == \"__main__\":\n",
        "    main()\n"
      ]
    },
    {
      "cell_type": "markdown",
      "metadata": {
        "id": "e1ke5VfyiBV3"
      },
      "source": [
        "# Neural Network with Correct Column"
      ]
    },
    {
      "cell_type": "code",
      "execution_count": null,
      "metadata": {
        "colab": {
          "base_uri": "https://localhost:8080/"
        },
        "id": "Vj4H7KkKiJRX",
        "outputId": "4e6e9b46-e683-4ba4-80ee-6c673c4fbb86"
      },
      "outputs": [
        {
          "name": "stdout",
          "output_type": "stream",
          "text": [
            "Epoch 1/20\n"
          ]
        },
        {
          "name": "stderr",
          "output_type": "stream",
          "text": [
            "/usr/local/lib/python3.10/dist-packages/keras/src/layers/core/dense.py:87: UserWarning: Do not pass an `input_shape`/`input_dim` argument to a layer. When using Sequential models, prefer using an `Input(shape)` object as the first layer in the model instead.\n",
            "  super().__init__(activity_regularizer=activity_regularizer, **kwargs)\n"
          ]
        },
        {
          "name": "stdout",
          "output_type": "stream",
          "text": [
            "\u001b[1m4536/4536\u001b[0m \u001b[32m━━━━━━━━━━━━━━━━━━━━\u001b[0m\u001b[37m\u001b[0m \u001b[1m10s\u001b[0m 2ms/step - loss: 54.7527 - mean_absolute_error: 4.7123\n",
            "Epoch 2/20\n",
            "\u001b[1m4536/4536\u001b[0m \u001b[32m━━━━━━━━━━━━━━━━━━━━\u001b[0m\u001b[37m\u001b[0m \u001b[1m10s\u001b[0m 2ms/step - loss: 10.7674 - mean_absolute_error: 2.5835\n",
            "Epoch 3/20\n",
            "\u001b[1m4536/4536\u001b[0m \u001b[32m━━━━━━━━━━━━━━━━━━━━\u001b[0m\u001b[37m\u001b[0m \u001b[1m9s\u001b[0m 2ms/step - loss: 10.7035 - mean_absolute_error: 2.5784\n",
            "Epoch 4/20\n",
            "\u001b[1m4536/4536\u001b[0m \u001b[32m━━━━━━━━━━━━━━━━━━━━\u001b[0m\u001b[37m\u001b[0m \u001b[1m10s\u001b[0m 2ms/step - loss: 10.7016 - mean_absolute_error: 2.5784\n",
            "Epoch 5/20\n",
            "\u001b[1m4536/4536\u001b[0m \u001b[32m━━━━━━━━━━━━━━━━━━━━\u001b[0m\u001b[37m\u001b[0m \u001b[1m11s\u001b[0m 2ms/step - loss: 10.6736 - mean_absolute_error: 2.5742\n",
            "Epoch 6/20\n",
            "\u001b[1m4536/4536\u001b[0m \u001b[32m━━━━━━━━━━━━━━━━━━━━\u001b[0m\u001b[37m\u001b[0m \u001b[1m11s\u001b[0m 2ms/step - loss: 10.7137 - mean_absolute_error: 2.5751\n",
            "Epoch 7/20\n",
            "\u001b[1m4536/4536\u001b[0m \u001b[32m━━━━━━━━━━━━━━━━━━━━\u001b[0m\u001b[37m\u001b[0m \u001b[1m7s\u001b[0m 1ms/step - loss: 10.7414 - mean_absolute_error: 2.5815\n",
            "Epoch 8/20\n",
            "\u001b[1m4536/4536\u001b[0m \u001b[32m━━━━━━━━━━━━━━━━━━━━\u001b[0m\u001b[37m\u001b[0m \u001b[1m8s\u001b[0m 2ms/step - loss: 10.7484 - mean_absolute_error: 2.5814\n",
            "Epoch 9/20\n",
            "\u001b[1m4536/4536\u001b[0m \u001b[32m━━━━━━━━━━━━━━━━━━━━\u001b[0m\u001b[37m\u001b[0m \u001b[1m8s\u001b[0m 2ms/step - loss: 10.6802 - mean_absolute_error: 2.5731\n",
            "Epoch 10/20\n",
            "\u001b[1m4536/4536\u001b[0m \u001b[32m━━━━━━━━━━━━━━━━━━━━\u001b[0m\u001b[37m\u001b[0m \u001b[1m10s\u001b[0m 2ms/step - loss: 10.6740 - mean_absolute_error: 2.5761\n",
            "Epoch 11/20\n",
            "\u001b[1m4536/4536\u001b[0m \u001b[32m━━━━━━━━━━━━━━━━━━━━\u001b[0m\u001b[37m\u001b[0m \u001b[1m9s\u001b[0m 2ms/step - loss: 10.6153 - mean_absolute_error: 2.5692\n",
            "Epoch 12/20\n",
            "\u001b[1m4536/4536\u001b[0m \u001b[32m━━━━━━━━━━━━━━━━━━━━\u001b[0m\u001b[37m\u001b[0m \u001b[1m10s\u001b[0m 2ms/step - loss: 10.7498 - mean_absolute_error: 2.5879\n",
            "Epoch 13/20\n",
            "\u001b[1m4536/4536\u001b[0m \u001b[32m━━━━━━━━━━━━━━━━━━━━\u001b[0m\u001b[37m\u001b[0m \u001b[1m7s\u001b[0m 2ms/step - loss: 10.6405 - mean_absolute_error: 2.5754\n",
            "Epoch 14/20\n",
            "\u001b[1m4536/4536\u001b[0m \u001b[32m━━━━━━━━━━━━━━━━━━━━\u001b[0m\u001b[37m\u001b[0m \u001b[1m9s\u001b[0m 2ms/step - loss: 10.7166 - mean_absolute_error: 2.5768\n",
            "Epoch 15/20\n",
            "\u001b[1m4536/4536\u001b[0m \u001b[32m━━━━━━━━━━━━━━━━━━━━\u001b[0m\u001b[37m\u001b[0m \u001b[1m9s\u001b[0m 2ms/step - loss: 10.6594 - mean_absolute_error: 2.5698\n",
            "Epoch 16/20\n",
            "\u001b[1m4536/4536\u001b[0m \u001b[32m━━━━━━━━━━━━━━━━━━━━\u001b[0m\u001b[37m\u001b[0m \u001b[1m8s\u001b[0m 2ms/step - loss: 10.6429 - mean_absolute_error: 2.5736\n",
            "Epoch 17/20\n",
            "\u001b[1m4536/4536\u001b[0m \u001b[32m━━━━━━━━━━━━━━━━━━━━\u001b[0m\u001b[37m\u001b[0m \u001b[1m8s\u001b[0m 2ms/step - loss: 10.7032 - mean_absolute_error: 2.5746\n",
            "Epoch 18/20\n",
            "\u001b[1m4536/4536\u001b[0m \u001b[32m━━━━━━━━━━━━━━━━━━━━\u001b[0m\u001b[37m\u001b[0m \u001b[1m7s\u001b[0m 2ms/step - loss: 10.7302 - mean_absolute_error: 2.5809\n",
            "Epoch 19/20\n",
            "\u001b[1m4536/4536\u001b[0m \u001b[32m━━━━━━━━━━━━━━━━━━━━\u001b[0m\u001b[37m\u001b[0m \u001b[1m9s\u001b[0m 2ms/step - loss: 10.6905 - mean_absolute_error: 2.5765\n",
            "Epoch 20/20\n",
            "\u001b[1m4536/4536\u001b[0m \u001b[32m━━━━━━━━━━━━━━━━━━━━\u001b[0m\u001b[37m\u001b[0m \u001b[1m7s\u001b[0m 2ms/step - loss: 10.6778 - mean_absolute_error: 2.5760\n",
            "\u001b[1m1134/1134\u001b[0m \u001b[32m━━━━━━━━━━━━━━━━━━━━\u001b[0m\u001b[37m\u001b[0m \u001b[1m2s\u001b[0m 2ms/step\n",
            "Mean Squared Error (MSE): 10.750953420287686\n",
            "Mean Absolute Error (MAE): 2.5553164755436057\n"
          ]
        }
      ],
      "source": [
        "def main():\n",
        "    # Make sure you've uploaded your SQLite database file in Colab\n",
        "    db_path = '/content/puzzle_database.db'\n",
        "\n",
        "    # Load data from the database\n",
        "    df = load_data_from_db(db_path)\n",
        "\n",
        "    # Preprocess the data\n",
        "    X, y = preprocess_data_with_additional_features(df)\n",
        "\n",
        "    # Use only 'correct_column' as the feature for training\n",
        "    X_train, X_test, y_train, y_test = split_data(X[['correct_column']], y)  # Selecting only 'correct_column'\n",
        "\n",
        "    # Standardize the data\n",
        "    scaler = StandardScaler()\n",
        "    X_train_scaled = scaler.fit_transform(X_train)\n",
        "    X_test_scaled = scaler.transform(X_test)\n",
        "\n",
        "    # Train Neural Network\n",
        "    nn_model = train_neural_network(X_train_scaled, y_train)\n",
        "\n",
        "    # Evaluate the Neural Network model\n",
        "    evaluate_model(nn_model, X_test_scaled, y_test)\n",
        "\n",
        "if __name__ == \"__main__\":\n",
        "    main()\n"
      ]
    },
    {
      "cell_type": "markdown",
      "metadata": {
        "id": "PlBvhM7ugBaA"
      },
      "source": [
        "# Integration of the Trained Model as a Heuristic in A*"
      ]
    },
    {
      "cell_type": "markdown",
      "metadata": {
        "id": "lsK4COzlpqlC"
      },
      "source": [
        "# Data Preprocessing"
      ]
    },
    {
      "cell_type": "code",
      "execution_count": null,
      "metadata": {
        "id": "GVCuW91fg7_j",
        "colab": {
          "base_uri": "https://localhost:8080/",
          "height": 408
        },
        "outputId": "533a8a5b-f50b-4996-812f-2b6c7c6c8dbf"
      },
      "outputs": [
        {
          "output_type": "error",
          "ename": "DatabaseError",
          "evalue": "Execution failed on sql 'SELECT * FROM your_table_name': no such table: your_table_name",
          "traceback": [
            "\u001b[0;31m---------------------------------------------------------------------------\u001b[0m",
            "\u001b[0;31mOperationalError\u001b[0m                          Traceback (most recent call last)",
            "\u001b[0;32m/usr/local/lib/python3.10/dist-packages/pandas/io/sql.py\u001b[0m in \u001b[0;36mexecute\u001b[0;34m(self, sql, params)\u001b[0m\n\u001b[1;32m   2673\u001b[0m         \u001b[0;32mtry\u001b[0m\u001b[0;34m:\u001b[0m\u001b[0;34m\u001b[0m\u001b[0;34m\u001b[0m\u001b[0m\n\u001b[0;32m-> 2674\u001b[0;31m             \u001b[0mcur\u001b[0m\u001b[0;34m.\u001b[0m\u001b[0mexecute\u001b[0m\u001b[0;34m(\u001b[0m\u001b[0msql\u001b[0m\u001b[0;34m,\u001b[0m \u001b[0;34m*\u001b[0m\u001b[0margs\u001b[0m\u001b[0;34m)\u001b[0m\u001b[0;34m\u001b[0m\u001b[0;34m\u001b[0m\u001b[0m\n\u001b[0m\u001b[1;32m   2675\u001b[0m             \u001b[0;32mreturn\u001b[0m \u001b[0mcur\u001b[0m\u001b[0;34m\u001b[0m\u001b[0;34m\u001b[0m\u001b[0m\n",
            "\u001b[0;31mOperationalError\u001b[0m: no such table: your_table_name",
            "\nThe above exception was the direct cause of the following exception:\n",
            "\u001b[0;31mDatabaseError\u001b[0m                             Traceback (most recent call last)",
            "\u001b[0;32m<ipython-input-6-de245bea334e>\u001b[0m in \u001b[0;36m<cell line: 7>\u001b[0;34m()\u001b[0m\n\u001b[1;32m      5\u001b[0m \u001b[0mconn\u001b[0m \u001b[0;34m=\u001b[0m \u001b[0msqlite3\u001b[0m\u001b[0;34m.\u001b[0m\u001b[0mconnect\u001b[0m\u001b[0;34m(\u001b[0m\u001b[0;34m'/content/path_to_your_database.db'\u001b[0m\u001b[0;34m)\u001b[0m\u001b[0;34m\u001b[0m\u001b[0;34m\u001b[0m\u001b[0m\n\u001b[1;32m      6\u001b[0m \u001b[0mquery\u001b[0m \u001b[0;34m=\u001b[0m \u001b[0;34m\"SELECT * FROM your_table_name\"\u001b[0m\u001b[0;34m\u001b[0m\u001b[0;34m\u001b[0m\u001b[0m\n\u001b[0;32m----> 7\u001b[0;31m \u001b[0mdf\u001b[0m \u001b[0;34m=\u001b[0m \u001b[0mpd\u001b[0m\u001b[0;34m.\u001b[0m\u001b[0mread_sql\u001b[0m\u001b[0;34m(\u001b[0m\u001b[0mquery\u001b[0m\u001b[0;34m,\u001b[0m \u001b[0mconn\u001b[0m\u001b[0;34m)\u001b[0m\u001b[0;34m\u001b[0m\u001b[0;34m\u001b[0m\u001b[0m\n\u001b[0m\u001b[1;32m      8\u001b[0m \u001b[0mconn\u001b[0m\u001b[0;34m.\u001b[0m\u001b[0mclose\u001b[0m\u001b[0;34m(\u001b[0m\u001b[0;34m)\u001b[0m\u001b[0;34m\u001b[0m\u001b[0;34m\u001b[0m\u001b[0m\n\u001b[1;32m      9\u001b[0m \u001b[0;34m\u001b[0m\u001b[0m\n",
            "\u001b[0;32m/usr/local/lib/python3.10/dist-packages/pandas/io/sql.py\u001b[0m in \u001b[0;36mread_sql\u001b[0;34m(sql, con, index_col, coerce_float, params, parse_dates, columns, chunksize, dtype_backend, dtype)\u001b[0m\n\u001b[1;32m    704\u001b[0m     \u001b[0;32mwith\u001b[0m \u001b[0mpandasSQL_builder\u001b[0m\u001b[0;34m(\u001b[0m\u001b[0mcon\u001b[0m\u001b[0;34m)\u001b[0m \u001b[0;32mas\u001b[0m \u001b[0mpandas_sql\u001b[0m\u001b[0;34m:\u001b[0m\u001b[0;34m\u001b[0m\u001b[0;34m\u001b[0m\u001b[0m\n\u001b[1;32m    705\u001b[0m         \u001b[0;32mif\u001b[0m \u001b[0misinstance\u001b[0m\u001b[0;34m(\u001b[0m\u001b[0mpandas_sql\u001b[0m\u001b[0;34m,\u001b[0m \u001b[0mSQLiteDatabase\u001b[0m\u001b[0;34m)\u001b[0m\u001b[0;34m:\u001b[0m\u001b[0;34m\u001b[0m\u001b[0;34m\u001b[0m\u001b[0m\n\u001b[0;32m--> 706\u001b[0;31m             return pandas_sql.read_query(\n\u001b[0m\u001b[1;32m    707\u001b[0m                 \u001b[0msql\u001b[0m\u001b[0;34m,\u001b[0m\u001b[0;34m\u001b[0m\u001b[0;34m\u001b[0m\u001b[0m\n\u001b[1;32m    708\u001b[0m                 \u001b[0mindex_col\u001b[0m\u001b[0;34m=\u001b[0m\u001b[0mindex_col\u001b[0m\u001b[0;34m,\u001b[0m\u001b[0;34m\u001b[0m\u001b[0;34m\u001b[0m\u001b[0m\n",
            "\u001b[0;32m/usr/local/lib/python3.10/dist-packages/pandas/io/sql.py\u001b[0m in \u001b[0;36mread_query\u001b[0;34m(self, sql, index_col, coerce_float, parse_dates, params, chunksize, dtype, dtype_backend)\u001b[0m\n\u001b[1;32m   2736\u001b[0m         \u001b[0mdtype_backend\u001b[0m\u001b[0;34m:\u001b[0m \u001b[0mDtypeBackend\u001b[0m \u001b[0;34m|\u001b[0m \u001b[0mLiteral\u001b[0m\u001b[0;34m[\u001b[0m\u001b[0;34m\"numpy\"\u001b[0m\u001b[0;34m]\u001b[0m \u001b[0;34m=\u001b[0m \u001b[0;34m\"numpy\"\u001b[0m\u001b[0;34m,\u001b[0m\u001b[0;34m\u001b[0m\u001b[0;34m\u001b[0m\u001b[0m\n\u001b[1;32m   2737\u001b[0m     ) -> DataFrame | Iterator[DataFrame]:\n\u001b[0;32m-> 2738\u001b[0;31m         \u001b[0mcursor\u001b[0m \u001b[0;34m=\u001b[0m \u001b[0mself\u001b[0m\u001b[0;34m.\u001b[0m\u001b[0mexecute\u001b[0m\u001b[0;34m(\u001b[0m\u001b[0msql\u001b[0m\u001b[0;34m,\u001b[0m \u001b[0mparams\u001b[0m\u001b[0;34m)\u001b[0m\u001b[0;34m\u001b[0m\u001b[0;34m\u001b[0m\u001b[0m\n\u001b[0m\u001b[1;32m   2739\u001b[0m         \u001b[0mcolumns\u001b[0m \u001b[0;34m=\u001b[0m \u001b[0;34m[\u001b[0m\u001b[0mcol_desc\u001b[0m\u001b[0;34m[\u001b[0m\u001b[0;36m0\u001b[0m\u001b[0;34m]\u001b[0m \u001b[0;32mfor\u001b[0m \u001b[0mcol_desc\u001b[0m \u001b[0;32min\u001b[0m \u001b[0mcursor\u001b[0m\u001b[0;34m.\u001b[0m\u001b[0mdescription\u001b[0m\u001b[0;34m]\u001b[0m\u001b[0;34m\u001b[0m\u001b[0;34m\u001b[0m\u001b[0m\n\u001b[1;32m   2740\u001b[0m \u001b[0;34m\u001b[0m\u001b[0m\n",
            "\u001b[0;32m/usr/local/lib/python3.10/dist-packages/pandas/io/sql.py\u001b[0m in \u001b[0;36mexecute\u001b[0;34m(self, sql, params)\u001b[0m\n\u001b[1;32m   2684\u001b[0m \u001b[0;34m\u001b[0m\u001b[0m\n\u001b[1;32m   2685\u001b[0m             \u001b[0mex\u001b[0m \u001b[0;34m=\u001b[0m \u001b[0mDatabaseError\u001b[0m\u001b[0;34m(\u001b[0m\u001b[0;34mf\"Execution failed on sql '{sql}': {exc}\"\u001b[0m\u001b[0;34m)\u001b[0m\u001b[0;34m\u001b[0m\u001b[0;34m\u001b[0m\u001b[0m\n\u001b[0;32m-> 2686\u001b[0;31m             \u001b[0;32mraise\u001b[0m \u001b[0mex\u001b[0m \u001b[0;32mfrom\u001b[0m \u001b[0mexc\u001b[0m\u001b[0;34m\u001b[0m\u001b[0;34m\u001b[0m\u001b[0m\n\u001b[0m\u001b[1;32m   2687\u001b[0m \u001b[0;34m\u001b[0m\u001b[0m\n\u001b[1;32m   2688\u001b[0m     \u001b[0;34m@\u001b[0m\u001b[0mstaticmethod\u001b[0m\u001b[0;34m\u001b[0m\u001b[0;34m\u001b[0m\u001b[0m\n",
            "\u001b[0;31mDatabaseError\u001b[0m: Execution failed on sql 'SELECT * FROM your_table_name': no such table: your_table_name"
          ]
        }
      ],
      "source": [
        "import sqlite3\n",
        "import pandas as pd\n",
        "\n",
        "# Load data from the SQLite database into a DataFrame\n",
        "conn = sqlite3.connect('/content/path_to_your_database.db')\n",
        "query = \"SELECT * FROM your_table_name\"\n",
        "df = pd.read_sql(query, conn)\n",
        "conn.close()\n",
        "\n",
        "# Now proceed with preprocessing\n"
      ]
    },
    {
      "cell_type": "code",
      "execution_count": null,
      "metadata": {
        "colab": {
          "base_uri": "https://localhost:8080/",
          "height": 211
        },
        "id": "0361_f0Ops1d",
        "outputId": "3d0dcd03-4a8d-44e1-c2ea-1b7ce25d2d95"
      },
      "outputs": [
        {
          "output_type": "error",
          "ename": "NameError",
          "evalue": "name 'df' is not defined",
          "traceback": [
            "\u001b[0;31m---------------------------------------------------------------------------\u001b[0m",
            "\u001b[0;31mNameError\u001b[0m                                 Traceback (most recent call last)",
            "\u001b[0;32m<ipython-input-4-8077a5b231ee>\u001b[0m in \u001b[0;36m<cell line: 12>\u001b[0;34m()\u001b[0m\n\u001b[1;32m     10\u001b[0m \u001b[0;34m\u001b[0m\u001b[0m\n\u001b[1;32m     11\u001b[0m \u001b[0;31m# Apply the preprocessing to the 'state' column\u001b[0m\u001b[0;34m\u001b[0m\u001b[0;34m\u001b[0m\u001b[0m\n\u001b[0;32m---> 12\u001b[0;31m \u001b[0mdf\u001b[0m\u001b[0;34m[\u001b[0m\u001b[0;34m'flattened_state'\u001b[0m\u001b[0;34m]\u001b[0m \u001b[0;34m=\u001b[0m \u001b[0mdf\u001b[0m\u001b[0;34m[\u001b[0m\u001b[0;34m'state'\u001b[0m\u001b[0;34m]\u001b[0m\u001b[0;34m.\u001b[0m\u001b[0mapply\u001b[0m\u001b[0;34m(\u001b[0m\u001b[0mpreprocess_state\u001b[0m\u001b[0;34m)\u001b[0m\u001b[0;34m\u001b[0m\u001b[0;34m\u001b[0m\u001b[0m\n\u001b[0m\u001b[1;32m     13\u001b[0m \u001b[0;34m\u001b[0m\u001b[0m\n\u001b[1;32m     14\u001b[0m \u001b[0;31m# Now, extract 'flattened_state' as the feature and 'solution_length' as the target\u001b[0m\u001b[0;34m\u001b[0m\u001b[0;34m\u001b[0m\u001b[0m\n",
            "\u001b[0;31mNameError\u001b[0m: name 'df' is not defined"
          ]
        }
      ],
      "source": [
        "import ast  # For converting string representation of lists to actual lists\n",
        "\n",
        "# Function to convert string and flatten the puzzle state\n",
        "def preprocess_state(state):\n",
        "    # Convert string representation of list to actual list using ast.literal_eval\n",
        "    state_list = ast.literal_eval(state)  # This converts string to list of lists\n",
        "    # Flatten the 3x3 puzzle into a 1D list of length 9\n",
        "    flattened_state = [tile for row in state_list for tile in row]\n",
        "    return flattened_state\n",
        "\n",
        "# Apply the preprocessing to the 'state' column\n",
        "df['flattened_state'] = df['state'].apply(preprocess_state)\n",
        "\n",
        "# Now, extract 'flattened_state' as the feature and 'solution_length' as the target\n",
        "X = pd.DataFrame(df['flattened_state'].tolist())  # Convert the list of lists into a DataFrame\n",
        "y = df['solution_length']  # Target variable (solution length)\n",
        "\n",
        "# Check if the data looks correct\n",
        "print(X.head())  # This should print the numerical values (flattened 1D arrays)\n"
      ]
    },
    {
      "cell_type": "markdown",
      "metadata": {
        "id": "yzCjM5syxgA-"
      },
      "source": [
        "# Split and Train the Model"
      ]
    },
    {
      "cell_type": "code",
      "execution_count": null,
      "metadata": {
        "colab": {
          "base_uri": "https://localhost:8080/",
          "height": 211
        },
        "id": "F0ettnV0xesO",
        "outputId": "fa35d78c-8a2e-46ae-952c-d9448be18bcc"
      },
      "outputs": [
        {
          "output_type": "error",
          "ename": "NameError",
          "evalue": "name 'X' is not defined",
          "traceback": [
            "\u001b[0;31m---------------------------------------------------------------------------\u001b[0m",
            "\u001b[0;31mNameError\u001b[0m                                 Traceback (most recent call last)",
            "\u001b[0;32m<ipython-input-8-d6e4e4a43beb>\u001b[0m in \u001b[0;36m<cell line: 7>\u001b[0;34m()\u001b[0m\n\u001b[1;32m      5\u001b[0m \u001b[0;34m\u001b[0m\u001b[0m\n\u001b[1;32m      6\u001b[0m \u001b[0;31m# Split the data\u001b[0m\u001b[0;34m\u001b[0m\u001b[0;34m\u001b[0m\u001b[0m\n\u001b[0;32m----> 7\u001b[0;31m \u001b[0mX_train\u001b[0m\u001b[0;34m,\u001b[0m \u001b[0mX_test\u001b[0m\u001b[0;34m,\u001b[0m \u001b[0my_train\u001b[0m\u001b[0;34m,\u001b[0m \u001b[0my_test\u001b[0m \u001b[0;34m=\u001b[0m \u001b[0mtrain_test_split\u001b[0m\u001b[0;34m(\u001b[0m\u001b[0mX\u001b[0m\u001b[0;34m,\u001b[0m \u001b[0my\u001b[0m\u001b[0;34m,\u001b[0m \u001b[0mtest_size\u001b[0m\u001b[0;34m=\u001b[0m\u001b[0;36m0.2\u001b[0m\u001b[0;34m,\u001b[0m \u001b[0mrandom_state\u001b[0m\u001b[0;34m=\u001b[0m\u001b[0;36m42\u001b[0m\u001b[0;34m)\u001b[0m\u001b[0;34m\u001b[0m\u001b[0;34m\u001b[0m\u001b[0m\n\u001b[0m\u001b[1;32m      8\u001b[0m \u001b[0;34m\u001b[0m\u001b[0m\n\u001b[1;32m      9\u001b[0m \u001b[0;31m# Train Decision Tree\u001b[0m\u001b[0;34m\u001b[0m\u001b[0;34m\u001b[0m\u001b[0m\n",
            "\u001b[0;31mNameError\u001b[0m: name 'X' is not defined"
          ]
        }
      ],
      "source": [
        "from sklearn.model_selection import train_test_split\n",
        "from sklearn.tree import DecisionTreeRegressor\n",
        "from sklearn.ensemble import RandomForestRegressor\n",
        "from sklearn.metrics import mean_squared_error, mean_absolute_error\n",
        "\n",
        "# Split the data\n",
        "X_train, X_test, y_train, y_test = train_test_split(X, y, test_size=0.2, random_state=42)\n",
        "\n",
        "# Train Decision Tree\n",
        "tree_model = DecisionTreeRegressor()\n",
        "tree_model.fit(X_train, y_train)\n",
        "\n",
        "# Train Random Forest\n",
        "rf_model = RandomForestRegressor()\n",
        "rf_model.fit(X_train, y_train)\n",
        "\n",
        "# Evaluate both models\n",
        "for model, name in [(tree_model, 'Decision Tree'), (rf_model, 'Random Forest')]:\n",
        "    y_pred = model.predict(X_test)\n",
        "    mse = mean_squared_error(y_test, y_pred)\n",
        "    mae = mean_absolute_error(y_test, y_pred)\n",
        "    print(f'{name} - MSE: {mse}, MAE: {mae}')\n"
      ]
    },
    {
      "cell_type": "markdown",
      "metadata": {
        "id": "mNTFD4zipKyS"
      },
      "source": [
        "# Data Validation (Creating a Table of Solution Lengths)"
      ]
    },
    {
      "cell_type": "code",
      "execution_count": null,
      "metadata": {
        "colab": {
          "base_uri": "https://localhost:8080/"
        },
        "id": "MkNKu6rmohMy",
        "outputId": "43ae9d62-20e7-488b-9594-12cc172f2d2c"
      },
      "outputs": [
        {
          "output_type": "stream",
          "name": "stdout",
          "text": [
            "                                    state  solution_length\n",
            "108221  [[6, 0, 8], [1, 4, 3], [5, 7, 2]]               23\n",
            "62569   [[2, 8, 4], [7, 3, 1], [5, 0, 6]]               21\n",
            "132264  [[0, 1, 4], [3, 5, 2], [8, 6, 7]]               24\n",
            "16150   [[6, 4, 3], [0, 1, 5], [7, 2, 8]]               17\n",
            "176922  [[2, 5, 1], [6, 4, 7], [3, 8, 0]]               28\n",
            "...                                   ...              ...\n",
            "146760  [[8, 7, 6], [0, 4, 1], [5, 3, 2]]               25\n",
            "49284   [[2, 4, 0], [1, 7, 3], [6, 8, 5]]               20\n",
            "29156   [[2, 5, 3], [6, 1, 0], [7, 4, 8]]               19\n",
            "37920   [[3, 2, 8], [1, 0, 7], [6, 5, 4]]               20\n",
            "142302  [[3, 0, 1], [5, 4, 6], [8, 2, 7]]               25\n",
            "\n",
            "[500 rows x 2 columns]\n"
          ]
        }
      ],
      "source": [
        "import sqlite3\n",
        "import pandas as pd\n",
        "\n",
        "# Step 1: Load data from the SQLite database\n",
        "db_path = '/content/puzzle_database.db'\n",
        "conn = sqlite3.connect(db_path)\n",
        "\n",
        "# Fetch data from the SQLite database into a pandas DataFrame\n",
        "query = '''\n",
        "SELECT state, solution_length\n",
        "FROM puzzle_states\n",
        "'''\n",
        "df = pd.read_sql_query(query, conn)\n",
        "\n",
        "# Close the connection\n",
        "conn.close()\n",
        "\n",
        "# Step 2: Sample the dataset\n",
        "def sample_dataset(df, N):\n",
        "    # Randomly sample N rows from the dataset\n",
        "    df_sample = df.sample(n=N, random_state=42)\n",
        "    return df_sample\n",
        "\n",
        "# Example: Sample 500 pairs (state, solution_length)\n",
        "df_sample = sample_dataset(df, 500)\n",
        "\n",
        "# Display the sample\n",
        "print(df_sample)\n"
      ]
    },
    {
      "cell_type": "markdown",
      "metadata": {
        "id": "EcDc1c7_o9KN"
      },
      "source": [
        "# Machine Learning Experiments"
      ]
    },
    {
      "cell_type": "markdown",
      "metadata": {
        "id": "jgZNR8MgpO1x"
      },
      "source": [
        "# 2.1 Dataset Subset Creation"
      ]
    },
    {
      "cell_type": "code",
      "execution_count": null,
      "metadata": {
        "id": "1T4slTeFpcpY"
      },
      "outputs": [],
      "source": [
        "import pandas as pd\n",
        "\n",
        "def sample_dataset(df, N):\n",
        "    # Randomly sample N rows from the dataset\n",
        "    df_sample = df.sample(n=N, random_state=42)\n",
        "    return df_sample\n",
        "\n",
        "# Example: Sample 500 pairs (state, solution_length)\n",
        "df_sample = sample_dataset(df, 500)\n"
      ]
    },
    {
      "cell_type": "markdown",
      "metadata": {
        "id": "nWGElkXbzmgQ"
      },
      "source": [
        "# Machine Learning Methods"
      ]
    },
    {
      "cell_type": "code",
      "execution_count": null,
      "metadata": {
        "colab": {
          "base_uri": "https://localhost:8080/",
          "height": 211
        },
        "id": "p5z-zujxzqSs",
        "outputId": "0a8be504-39d2-4637-b81f-72e1298983bb"
      },
      "outputs": [
        {
          "output_type": "error",
          "ename": "NameError",
          "evalue": "name 'X' is not defined",
          "traceback": [
            "\u001b[0;31m---------------------------------------------------------------------------\u001b[0m",
            "\u001b[0;31mNameError\u001b[0m                                 Traceback (most recent call last)",
            "\u001b[0;32m<ipython-input-10-fad9653c87d4>\u001b[0m in \u001b[0;36m<cell line: 7>\u001b[0;34m()\u001b[0m\n\u001b[1;32m      5\u001b[0m \u001b[0;34m\u001b[0m\u001b[0m\n\u001b[1;32m      6\u001b[0m \u001b[0;31m# Split the data into training and testing sets\u001b[0m\u001b[0;34m\u001b[0m\u001b[0;34m\u001b[0m\u001b[0m\n\u001b[0;32m----> 7\u001b[0;31m \u001b[0mX_train\u001b[0m\u001b[0;34m,\u001b[0m \u001b[0mX_test\u001b[0m\u001b[0;34m,\u001b[0m \u001b[0my_train\u001b[0m\u001b[0;34m,\u001b[0m \u001b[0my_test\u001b[0m \u001b[0;34m=\u001b[0m \u001b[0mtrain_test_split\u001b[0m\u001b[0;34m(\u001b[0m\u001b[0mX\u001b[0m\u001b[0;34m,\u001b[0m \u001b[0my\u001b[0m\u001b[0;34m,\u001b[0m \u001b[0mtest_size\u001b[0m\u001b[0;34m=\u001b[0m\u001b[0;36m0.2\u001b[0m\u001b[0;34m,\u001b[0m \u001b[0mrandom_state\u001b[0m\u001b[0;34m=\u001b[0m\u001b[0;36m42\u001b[0m\u001b[0;34m)\u001b[0m\u001b[0;34m\u001b[0m\u001b[0;34m\u001b[0m\u001b[0m\n\u001b[0m\u001b[1;32m      8\u001b[0m \u001b[0;34m\u001b[0m\u001b[0m\n\u001b[1;32m      9\u001b[0m \u001b[0;31m# Train Decision Tree\u001b[0m\u001b[0;34m\u001b[0m\u001b[0;34m\u001b[0m\u001b[0m\n",
            "\u001b[0;31mNameError\u001b[0m: name 'X' is not defined"
          ]
        }
      ],
      "source": [
        "from sklearn.model_selection import train_test_split\n",
        "from sklearn.tree import DecisionTreeRegressor\n",
        "from sklearn.ensemble import RandomForestRegressor\n",
        "from sklearn.metrics import mean_squared_error, mean_absolute_error\n",
        "\n",
        "# Split the data into training and testing sets\n",
        "X_train, X_test, y_train, y_test = train_test_split(X, y, test_size=0.2, random_state=42)\n",
        "\n",
        "# Train Decision Tree\n",
        "tree_model = DecisionTreeRegressor()\n",
        "tree_model.fit(X_train, y_train)\n",
        "\n",
        "# Train Random Forest\n",
        "rf_model = RandomForestRegressor()\n",
        "rf_model.fit(X_train, y_train)\n",
        "\n",
        "# Evaluate both models\n",
        "for model, name in [(tree_model, 'Decision Tree'), (rf_model, 'Random Forest')]:\n",
        "    y_pred = model.predict(X_test)\n",
        "    mse = mean_squared_error(y_test, y_pred)\n",
        "    mae = mean_absolute_error(y_test, y_pred)\n",
        "    print(f'{name} - MSE: {mse}, MAE: {mae}')\n"
      ]
    },
    {
      "cell_type": "markdown",
      "metadata": {
        "id": "H5EmCElm1Khv"
      },
      "source": [
        "# Comparing the results from different models"
      ]
    },
    {
      "cell_type": "markdown",
      "metadata": {
        "id": "w67FRZ4H1dy5"
      },
      "source": [
        "# Define the PuzzleSolver Class"
      ]
    },
    {
      "cell_type": "code",
      "execution_count": null,
      "metadata": {
        "id": "erF93zgX1PZ2"
      },
      "outputs": [],
      "source": [
        "import heapq\n",
        "import numpy as np\n",
        "\n",
        "class Node:\n",
        "    def __init__(self, state, level, f_value, parent):\n",
        "        self.state = state\n",
        "        self.level = level  # Depth level of the node in the search tree\n",
        "        self.f_value = f_value  # f(n) = g(n) + h(n)\n",
        "        self.parent = parent  # Pointer to the parent node\n",
        "\n",
        "    def __lt__(self, other):\n",
        "        return self.f_value < other.f_value\n",
        "\n",
        "class PuzzleSolver:\n",
        "    def __init__(self, model):\n",
        "        self.n = 3  # Assuming 3x3 puzzle size\n",
        "        self.model = model  # Trained ML model for heuristic\n",
        "        self.moves = [(0, 1), (0, -1), (1, 0), (-1, 0)]  # right, left, down, up\n",
        "\n",
        "    def get_blank_position(self, state):\n",
        "        \"\"\"Find the position of the blank tile (0) in the puzzle.\"\"\"\n",
        "        for i in range(self.n):\n",
        "            for j in range(self.n):\n",
        "                if state[i][j] == 0:\n",
        "                    return i, j\n",
        "\n",
        "    def is_valid_move(self, x, y):\n",
        "        \"\"\"Check if the move is valid within the puzzle grid.\"\"\"\n",
        "        return 0 <= x < self.n and 0 <= y < self.n\n",
        "\n",
        "    def generate_children(self, node):\n",
        "        \"\"\"Generate child nodes by moving the blank tile in all valid directions.\"\"\"\n",
        "        children = []\n",
        "        x, y = self.get_blank_position(node.state)\n",
        "\n",
        "        for move in self.moves:\n",
        "            dx, dy = move\n",
        "            new_x, new_y = x + dx, y + dy\n",
        "\n",
        "            if self.is_valid_move(new_x, new_y):\n",
        "                new_state = [row[:] for row in node.state]  # Create a copy of the state\n",
        "                new_state[x][y], new_state[new_x][new_y] = new_state[new_x][new_y], new_state[x][y]\n",
        "                child = Node(new_state, node.level + 1, 0, node)  # Level increases by 1\n",
        "                children.append(child)\n",
        "\n",
        "        return children\n",
        "\n",
        "    def flatten_state(self, state):\n",
        "        \"\"\"Flatten the 2D puzzle state into a 1D list for model input.\"\"\"\n",
        "        return [tile for row in state for tile in row]\n",
        "\n",
        "    def heuristic(self, state):\n",
        "        \"\"\"Use the trained model to predict the heuristic value (distance to goal).\"\"\"\n",
        "        flattened_state = np.array(self.flatten_state(state)).reshape(1, -1)\n",
        "\n",
        "        # Use the trained Random Forest model to predict the distance to the goal\n",
        "        predicted_heuristic = self.model.predict(flattened_state)[0]  # Using Random Forest\n",
        "\n",
        "        # Apply a weight to the predicted heuristic if needed\n",
        "        W = 0.9  # Example weight to ensure the heuristic is optimistic\n",
        "        return W * predicted_heuristic\n",
        "\n",
        "    def solve(self, initial_state, goal_state):\n",
        "        \"\"\"Implement the A* search algorithm.\"\"\"\n",
        "        open_list = []\n",
        "        closed_set = set()\n",
        "\n",
        "        initial_node = Node(initial_state, 0, 0, None)\n",
        "        initial_node.f_value = self.heuristic(initial_state)  # f(n) = h(n), since g(n) = 0 initially\n",
        "        heapq.heappush(open_list, initial_node)\n",
        "\n",
        "        solution_length = 0  # To track the number of steps in the solution\n",
        "\n",
        "        while open_list:\n",
        "            current_node = heapq.heappop(open_list)\n",
        "            closed_set.add(tuple(map(tuple, current_node.state)))  # Mark this state as visited\n",
        "\n",
        "            if current_node.state == goal_state:\n",
        "                path = []\n",
        "                while current_node:\n",
        "                    path.append(current_node.state)\n",
        "                    current_node = current_node.parent\n",
        "                    solution_length += 1\n",
        "\n",
        "                return list(reversed(path)), solution_length  # Return the solution path and length\n",
        "\n",
        "            children = self.generate_children(current_node)\n",
        "            for child in children:\n",
        "                if tuple(map(tuple, child.state)) not in closed_set:  # Ensure the state hasn't been visited\n",
        "                    child.f_value = child.level + self.heuristic(child.state)  # f(n) = g(n) + h(n)\n",
        "                    heapq.heappush(open_list, child)\n",
        "\n",
        "        return None, solution_length  # If no solution found\n"
      ]
    },
    {
      "cell_type": "markdown",
      "metadata": {
        "id": "auJT26bg1o7j"
      },
      "source": [
        "# Train and Use Random Forest Model in the A* Algorithm"
      ]
    },
    {
      "cell_type": "code",
      "execution_count": null,
      "metadata": {
        "colab": {
          "base_uri": "https://localhost:8080/"
        },
        "id": "4L7qKhZ81qTV",
        "outputId": "017e7389-b2d6-46b5-aecb-34a68890d750"
      },
      "outputs": [
        {
          "name": "stdout",
          "output_type": "stream",
          "text": [
            "Solution length: 3\n"
          ]
        }
      ],
      "source": [
        "# Train the Random Forest model (this is already done earlier)\n",
        "# rf_model = RandomForestRegressor()\n",
        "# rf_model.fit(X_train, y_train)\n",
        "\n",
        "# Define the initial state and goal state\n",
        "initial_state = [[1, 2, 3], [4, 5, 6], [0, 7, 8]]  # Example initial state\n",
        "goal_state = [[1, 2, 3], [4, 5, 6], [7, 8, 0]]  # Goal state\n",
        "\n",
        "# Initialize the PuzzleSolver with the trained Random Forest model\n",
        "solver = PuzzleSolver(rf_model)\n",
        "\n",
        "# Solve the puzzle using A* with the learned heuristic\n",
        "solution, solution_length = solver.solve(initial_state, goal_state)\n",
        "\n",
        "# Print the solution length (number of steps)\n",
        "print(\"Solution length:\", solution_length)\n"
      ]
    },
    {
      "cell_type": "markdown",
      "metadata": {
        "id": "u2czs_7W3Jup"
      },
      "source": [
        "Now that we've successfully integrated the Random Forest model into your A* search and obtained a solution, the next steps involve evaluating and comparing the performance of your learned heuristic against traditional heuristics"
      ]
    },
    {
      "cell_type": "markdown",
      "metadata": {
        "id": "OzdbFjyE3NdJ"
      },
      "source": [
        "# Verifying the Solution Optimality"
      ]
    },
    {
      "cell_type": "markdown",
      "metadata": {
        "id": "bjniKefw3dsS"
      },
      "source": [
        "**Example Code Using Manhattan Distance:**"
      ]
    },
    {
      "cell_type": "code",
      "execution_count": null,
      "metadata": {
        "colab": {
          "base_uri": "https://localhost:8080/"
        },
        "id": "sdk9gg543UNn",
        "outputId": "10635a6f-7e95-4db9-b96b-7bf7392c918a"
      },
      "outputs": [
        {
          "name": "stdout",
          "output_type": "stream",
          "text": [
            "Solution length with traditional heuristic: 3\n"
          ]
        }
      ],
      "source": [
        "def manhattan_distance(state, goal_state):\n",
        "    \"\"\"Calculate the Manhattan Distance heuristic.\"\"\"\n",
        "    total_distance = 0\n",
        "    for i in range(3):\n",
        "        for j in range(3):\n",
        "            tile = state[i][j]\n",
        "            if tile != 0:\n",
        "                goal_i, goal_j = divmod(goal_state.index(tile), 3)\n",
        "                total_distance += abs(i - goal_i) + abs(j - goal_j)\n",
        "    return total_distance\n",
        "\n",
        "class PuzzleSolverTraditionalHeuristic(PuzzleSolver):\n",
        "    def heuristic(self, state):\n",
        "        \"\"\"Use the Manhattan Distance as heuristic.\"\"\"\n",
        "        flattened_state = self.flatten_state(state)\n",
        "        goal_flattened = [1, 2, 3, 4, 5, 6, 7, 8, 0]\n",
        "        return manhattan_distance(state, goal_flattened)\n",
        "\n",
        "# Initialize the PuzzleSolver with traditional heuristic\n",
        "solver_traditional = PuzzleSolverTraditionalHeuristic(None)\n",
        "solution_traditional, solution_length_traditional = solver_traditional.solve(initial_state, goal_state)\n",
        "print(\"Solution length with traditional heuristic:\", solution_length_traditional)\n"
      ]
    },
    {
      "cell_type": "markdown",
      "metadata": {
        "id": "m1D9Ymsp3zYh"
      },
      "source": [
        "# Measuring the Performance of the Learned Heuristic"
      ]
    },
    {
      "cell_type": "markdown",
      "metadata": {
        "id": "gzbWw4xRFhAQ"
      },
      "source": [
        "# Modify Your solve Method to Collect Metrics:"
      ]
    },
    {
      "cell_type": "code",
      "execution_count": null,
      "metadata": {
        "colab": {
          "base_uri": "https://localhost:8080/"
        },
        "id": "UC6vy3cSFcfm",
        "outputId": "c4a0f203-2daa-478c-dc59-72524209abf3"
      },
      "outputs": [
        {
          "name": "stdout",
          "output_type": "stream",
          "text": [
            "DEBUG - Result Learned: ([[[1, 2, 3], [4, 5, 6], [0, 7, 8]], [[1, 2, 3], [4, 5, 6], [7, 0, 8]], [[1, 2, 3], [4, 5, 6], [7, 8, 0]]], 3)\n"
          ]
        }
      ],
      "source": [
        "import time\n",
        "\n",
        "def solve(self, initial_state, goal_state):\n",
        "    \"\"\"Implement the A* search algorithm with metrics collection.\"\"\"\n",
        "    open_list = []\n",
        "    closed_set = set()\n",
        "\n",
        "    initial_node = Node(initial_state, 0, 0, None)\n",
        "    initial_node.f_value = self.heuristic(initial_state)\n",
        "    heapq.heappush(open_list, initial_node)\n",
        "\n",
        "    solution_length = 0\n",
        "    nodes_expanded = 0  # Initialize counter\n",
        "\n",
        "    start_time = time.time()  # Start timing the search\n",
        "\n",
        "    while open_list:\n",
        "        current_node = heapq.heappop(open_list)\n",
        "        closed_set.add(tuple(map(tuple, current_node.state)))\n",
        "        nodes_expanded += 1  # Increment nodes expanded\n",
        "\n",
        "        if current_node.state == goal_state:\n",
        "            path = []\n",
        "            while current_node:\n",
        "                path.append(current_node.state)\n",
        "                current_node = current_node.parent\n",
        "                solution_length += 1\n",
        "\n",
        "            end_time = time.time()  # End timing the search\n",
        "            search_time = end_time - start_time  # Calculate the time taken\n",
        "\n",
        "            # DEBUG: Print the dictionary being returned\n",
        "            result = {\n",
        "                'solution': list(reversed(path)),\n",
        "                'solution_length': solution_length,\n",
        "                'nodes_expanded': nodes_expanded,\n",
        "                'search_time': search_time\n",
        "            }\n",
        "            print(\"DEBUG - Returning result:\", result)  # This will confirm if the function is returning a dictionary\n",
        "            return result\n",
        "\n",
        "        # Generate children nodes\n",
        "        children = self.generate_children(current_node)\n",
        "        for child in children:\n",
        "            if tuple(map(tuple, child.state)) not in closed_set:\n",
        "                child.f_value = child.level + self.heuristic(child.state)\n",
        "                heapq.heappush(open_list, child)\n",
        "\n",
        "    end_time = time.time()  # End timing the search\n",
        "    search_time = end_time - start_time\n",
        "\n",
        "    # Return even if no solution is found\n",
        "    result = {\n",
        "        'solution': None,\n",
        "        'solution_length': solution_length,\n",
        "        'nodes_expanded': nodes_expanded,\n",
        "        'search_time': search_time\n",
        "    }\n",
        "    print(\"DEBUG - Returning result:\", result)  # Print the result being returned\n",
        "    return result\n",
        "\n",
        "# Using the learned heuristic\n",
        "result_learned = solver.solve(initial_state, goal_state)\n",
        "print(\"DEBUG - Result Learned:\", result_learned)  # Print the result to check its structure\n",
        "\n",
        "# Remove the second invalid print statement\n",
        "# print(\"DEBUG - Returning result:\", result)  # Remove this line because \"result\" doesn't exist here anymore\n"
      ]
    },
    {
      "cell_type": "code",
      "execution_count": null,
      "metadata": {
        "colab": {
          "base_uri": "https://localhost:8080/"
        },
        "id": "6niOsTHQGuBz",
        "outputId": "c0f419a2-b4a4-4978-d7e0-ae0683515991"
      },
      "outputs": [
        {
          "name": "stdout",
          "output_type": "stream",
          "text": [
            "Result Learned: ([[[1, 2, 3], [4, 5, 6], [0, 7, 8]], [[1, 2, 3], [4, 5, 6], [7, 0, 8]], [[1, 2, 3], [4, 5, 6], [7, 8, 0]]], 3)\n"
          ]
        }
      ],
      "source": [
        "# Using the learned heuristic\n",
        "result_learned = solver.solve(initial_state, goal_state)\n",
        "print(\"Result Learned:\", result_learned)  # Print the result to check its structure\n"
      ]
    },
    {
      "cell_type": "code",
      "execution_count": null,
      "metadata": {
        "id": "PsjdZlWiO0VL"
      },
      "outputs": [],
      "source": [
        "result_learned = solver.solve(initial_state, goal_state)\n"
      ]
    },
    {
      "cell_type": "code",
      "execution_count": null,
      "metadata": {
        "colab": {
          "base_uri": "https://localhost:8080/"
        },
        "id": "K9Z9WwpiO1tL",
        "outputId": "488eaf4e-69a7-44d2-c739-85b5acb364de"
      },
      "outputs": [
        {
          "name": "stdout",
          "output_type": "stream",
          "text": [
            "DEBUG - Result Learned: ([[[1, 2, 3], [4, 5, 6], [0, 7, 8]], [[1, 2, 3], [4, 5, 6], [7, 0, 8]], [[1, 2, 3], [4, 5, 6], [7, 8, 0]]], 3)\n"
          ]
        }
      ],
      "source": [
        "# Using the learned heuristic\n",
        "result_learned = solver.solve(initial_state, goal_state)\n",
        "print(\"DEBUG - Result Learned:\", result_learned)  # Print the result to check its structure\n",
        "\n",
        "# You don't need to print \"result\" because it doesn't exist globally; it's returned from the solve() function\n",
        "# So, remove this line:\n",
        "# print(\"DEBUG - Returning result:\", result)\n",
        "\n"
      ]
    },
    {
      "cell_type": "code",
      "execution_count": null,
      "metadata": {
        "colab": {
          "base_uri": "https://localhost:8080/"
        },
        "id": "-fWbKhO-O4Bu",
        "outputId": "4d49162f-f81b-4e48-b80b-515e8541d294"
      },
      "outputs": [
        {
          "name": "stdout",
          "output_type": "stream",
          "text": [
            "DEBUG - Result Learned: ([[[1, 2, 3], [4, 5, 6], [0, 7, 8]], [[1, 2, 3], [4, 5, 6], [7, 0, 8]], [[1, 2, 3], [4, 5, 6], [7, 8, 0]]], 3)\n"
          ]
        }
      ],
      "source": [
        "# Using the learned heuristic\n",
        "result_learned = solver.solve(initial_state, goal_state)\n",
        "print(\"DEBUG - Result Learned:\", result_learned)  # This is the correct print statement\n",
        "\n"
      ]
    },
    {
      "cell_type": "code",
      "execution_count": null,
      "metadata": {
        "colab": {
          "base_uri": "https://localhost:8080/"
        },
        "id": "2anZ5Fj6Fro1",
        "outputId": "937b04d8-50e4-4113-8166-cd07e4ecec43"
      },
      "outputs": [
        {
          "name": "stdout",
          "output_type": "stream",
          "text": [
            "Learned Heuristic Results:\n",
            "Solution Length: 3\n",
            "Solution Path: [[[1, 2, 3], [4, 5, 6], [0, 7, 8]], [[1, 2, 3], [4, 5, 6], [7, 0, 8]], [[1, 2, 3], [4, 5, 6], [7, 8, 0]]]\n",
            "\n",
            "Traditional Heuristic Results:\n",
            "Solution Length: 3\n",
            "Solution Path: [[[1, 2, 3], [4, 5, 6], [0, 7, 8]], [[1, 2, 3], [4, 5, 6], [7, 0, 8]], [[1, 2, 3], [4, 5, 6], [7, 8, 0]]]\n"
          ]
        }
      ],
      "source": [
        "# Using the learned heuristic\n",
        "result_learned = solver.solve(initial_state, goal_state)\n",
        "\n",
        "# Access the tuple using integer indices\n",
        "solution_path_learned = result_learned[0]  # First element (solution path)\n",
        "solution_length_learned = result_learned[1]  # Second element (solution length)\n",
        "\n",
        "# Print the results\n",
        "print(\"Learned Heuristic Results:\")\n",
        "print(\"Solution Length:\", solution_length_learned)\n",
        "print(\"Solution Path:\", solution_path_learned)\n",
        "\n",
        "# Using the traditional heuristic\n",
        "result_traditional = solver_traditional.solve(initial_state, goal_state)\n",
        "\n",
        "# Access the tuple using integer indices\n",
        "solution_path_traditional = result_traditional[0]  # First element (solution path)\n",
        "solution_length_traditional = result_traditional[1]  # Second element (solution length)\n",
        "\n",
        "# Print the results\n",
        "print(\"\\nTraditional Heuristic Results:\")\n",
        "print(\"Solution Length:\", solution_length_traditional)\n",
        "print(\"Solution Path:\", solution_path_traditional)\n",
        "\n"
      ]
    },
    {
      "cell_type": "markdown",
      "metadata": {
        "id": "3PahvU3wqGNG"
      },
      "source": [
        "# Trying with new input state"
      ]
    },
    {
      "cell_type": "code",
      "execution_count": null,
      "metadata": {
        "colab": {
          "base_uri": "https://localhost:8080/"
        },
        "id": "rpFr1cFCqMq-",
        "outputId": "b8b13ebb-cd5a-4144-b62b-6290c2a5e822"
      },
      "outputs": [
        {
          "name": "stdout",
          "output_type": "stream",
          "text": [
            "Traditional Heuristic Results:\n",
            "Solution Length: 21\n",
            "Nodes Expanded: 273\n",
            "Search Time: 0.043702125549316406\n"
          ]
        }
      ],
      "source": [
        "import time\n",
        "import heapq\n",
        "\n",
        "# A class representing each node in the search\n",
        "class Node:\n",
        "    def __init__(self, state, level, f_value, parent=None):\n",
        "        self.state = state\n",
        "        self.level = level  # Number of moves taken to reach this state\n",
        "        self.f_value = f_value  # f(n) = g(n) + h(n), g(n) is the level, h(n) is the heuristic\n",
        "        self.parent = parent  # Pointer to the parent node\n",
        "\n",
        "    def __lt__(self, other):\n",
        "        return self.f_value < other.f_value  # For priority queue comparison\n",
        "\n",
        "\n",
        "class PuzzleSolver:\n",
        "    def __init__(self, model=None):\n",
        "        self.model = model  # Machine learning model for the learned heuristic\n",
        "\n",
        "    def heuristic(self, state):\n",
        "        # If using learned heuristic (machine learning model)\n",
        "        if self.model:\n",
        "            flattened_state = [tile for row in state for tile in row]  # Flatten 2D state into 1D array\n",
        "            return self.model.predict([flattened_state])[0]  # Predict heuristic with the learned model\n",
        "        # If using traditional heuristic (Manhattan distance)\n",
        "        else:\n",
        "            goal_state = [[1, 2, 3], [4, 5, 6], [7, 8, 0]]  # Fixed goal state matrix\n",
        "            return self.manhattan_distance(state, goal_state)\n",
        "\n",
        "    def manhattan_distance(self, state, goal_state):\n",
        "        \"\"\"Calculate the Manhattan Distance heuristic.\"\"\"\n",
        "        total_distance = 0\n",
        "        for i in range(3):\n",
        "            for j in range(3):\n",
        "                tile = state[i][j]\n",
        "                if tile != 0:\n",
        "                    goal_i, goal_j = [(ix, iy) for ix, row in enumerate(goal_state) for iy, val in enumerate(row) if val == tile][0]\n",
        "                    total_distance += abs(i - goal_i) + abs(j - goal_j)\n",
        "        return total_distance\n",
        "\n",
        "    def generate_children(self, node):\n",
        "        \"\"\"Generate child states by moving the blank tile (0).\"\"\"\n",
        "        children = []\n",
        "        n = 3\n",
        "        moves = [(0, 1), (0, -1), (1, 0), (-1, 0)]  # right, left, down, up\n",
        "        x, y = [(ix, iy) for ix, row in enumerate(node.state) for iy, val in enumerate(row) if val == 0][0]  # Find 0\n",
        "\n",
        "        for move in moves:\n",
        "            new_x, new_y = x + move[0], y + move[1]\n",
        "            if 0 <= new_x < n and 0 <= new_y < n:\n",
        "                new_state = [row[:] for row in node.state]  # Create a copy of the state\n",
        "                new_state[x][y], new_state[new_x][new_y] = new_state[new_x][new_y], new_state[x][y]\n",
        "                child_node = Node(new_state, node.level + 1, 0, node)\n",
        "                children.append(child_node)\n",
        "\n",
        "        return children\n",
        "\n",
        "    def solve(self, initial_state, goal_state):\n",
        "        \"\"\"Implement the A* search algorithm with metrics collection.\"\"\"\n",
        "        open_list = []\n",
        "        closed_set = set()\n",
        "\n",
        "        initial_node = Node(initial_state, 0, 0, None)\n",
        "        initial_node.f_value = self.heuristic(initial_state)\n",
        "        heapq.heappush(open_list, initial_node)\n",
        "\n",
        "        solution_length = 0\n",
        "        nodes_expanded = 0  # Initialize counter\n",
        "\n",
        "        start_time = time.time()  # Start timing the search\n",
        "\n",
        "        while open_list:\n",
        "            current_node = heapq.heappop(open_list)\n",
        "            closed_set.add(tuple(map(tuple, current_node.state)))\n",
        "            nodes_expanded += 1  # Increment nodes expanded\n",
        "\n",
        "            if current_node.state == goal_state:\n",
        "                path = []\n",
        "                while current_node:\n",
        "                    path.append(current_node.state)\n",
        "                    current_node = current_node.parent\n",
        "                    solution_length += 1\n",
        "\n",
        "                end_time = time.time()  # End timing the search\n",
        "                search_time = end_time - start_time  # Calculate the time taken\n",
        "\n",
        "                return (list(reversed(path)), solution_length, nodes_expanded, search_time)\n",
        "\n",
        "            # Generate children nodes\n",
        "            children = self.generate_children(current_node)\n",
        "            for child in children:\n",
        "                if tuple(map(tuple, child.state)) not in closed_set:\n",
        "                    child.f_value = child.level + self.heuristic(child.state)\n",
        "                    heapq.heappush(open_list, child)\n",
        "\n",
        "        end_time = time.time()  # End timing the search\n",
        "        search_time = end_time - start_time\n",
        "\n",
        "        return (None, solution_length, nodes_expanded, search_time)\n",
        "\n",
        "\n",
        "# Instantiate the PuzzleSolver (you can pass your learned model if needed)\n",
        "solver = PuzzleSolver()  # For traditional heuristic (Manhattan distance)\n",
        "\n",
        "# New, more complex initial state for testing\n",
        "initial_state = [[7, 2, 4], [5, 0, 6], [8, 3, 1]]  # Example complex state\n",
        "goal_state = [[1, 2, 3], [4, 5, 6], [7, 8, 0]]  # Corrected goal state\n",
        "\n",
        "# Solve using the traditional heuristic (Manhattan distance)\n",
        "result_traditional = solver.solve(initial_state, goal_state)\n",
        "\n",
        "# Print results for the traditional heuristic\n",
        "print(\"Traditional Heuristic Results:\")\n",
        "print(\"Solution Length:\", result_traditional[1])  # Access solution length from tuple\n",
        "print(\"Nodes Expanded:\", result_traditional[2])  # Access nodes expanded\n",
        "print(\"Search Time:\", result_traditional[3])  # Access search time\n"
      ]
    },
    {
      "cell_type": "code",
      "execution_count": null,
      "metadata": {
        "colab": {
          "base_uri": "https://localhost:8080/"
        },
        "id": "RRtp_tSSsfol",
        "outputId": "88dfb289-5155-4945-a081-0e1296f73258"
      },
      "outputs": [
        {
          "name": "stdout",
          "output_type": "stream",
          "text": [
            "Model saved as 'heuristic_model.pkl'\n"
          ]
        }
      ],
      "source": [
        "import joblib\n",
        "from sklearn.ensemble import RandomForestRegressor\n",
        "from sklearn.model_selection import train_test_split\n",
        "\n",
        "# Assuming you have X and y from preprocessing (X is the puzzle state and y is the solution length)\n",
        "# You should have preprocessed data here (replace with actual dataset preprocessing code)\n",
        "\n",
        "# Example dataset generation (replace with actual preprocessing)\n",
        "import numpy as np\n",
        "X = np.random.randint(0, 9, (1000, 9))  # Example: 1000 states of 8-puzzle\n",
        "y = np.random.randint(0, 30, 1000)  # Random solution lengths\n",
        "\n",
        "# Split the dataset into training and testing sets\n",
        "X_train, X_test, y_train, y_test = train_test_split(X, y, test_size=0.2, random_state=42)\n",
        "\n",
        "# Train a Random Forest model\n",
        "model = RandomForestRegressor()\n",
        "model.fit(X_train, y_train)\n",
        "\n",
        "# Save the trained model to a file\n",
        "joblib.dump(model, 'heuristic_model.pkl')\n",
        "print(\"Model saved as 'heuristic_model.pkl'\")\n"
      ]
    },
    {
      "cell_type": "code",
      "execution_count": null,
      "metadata": {
        "colab": {
          "background_save": true
        },
        "id": "4RjvBYI4rlPX",
        "outputId": "0c2e2e7e-c6d0-4f2e-ec05-435b35fade5b"
      },
      "outputs": [
        {
          "name": "stdout",
          "output_type": "stream",
          "text": [
            "Traditional Heuristic Results:\n",
            "Solution Length: 21\n",
            "Nodes Expanded: 273\n",
            "Search Time: 0.010261058807373047\n",
            "\n",
            "Learned Heuristic Results:\n",
            "Solution Length: 21\n",
            "Nodes Expanded: 73328\n",
            "Search Time: 576.6788599491119\n"
          ]
        }
      ],
      "source": [
        "import time\n",
        "import heapq\n",
        "import joblib\n",
        "\n",
        "# Load the pre-trained model for the learned heuristic\n",
        "model = joblib.load('heuristic_model.pkl')  # Load the saved model\n",
        "\n",
        "# A class representing each node in the search\n",
        "class Node:\n",
        "    def __init__(self, state, level, f_value, parent=None):\n",
        "        self.state = state\n",
        "        self.level = level  # Number of moves taken to reach this state\n",
        "        self.f_value = f_value  # f(n) = g(n) + h(n), g(n) is the level, h(n) is the heuristic\n",
        "        self.parent = parent  # Pointer to the parent node\n",
        "\n",
        "    def __lt__(self, other):\n",
        "        return self.f_value < other.f_value  # For priority queue comparison\n",
        "\n",
        "class PuzzleSolver:\n",
        "    def __init__(self, model=None):\n",
        "        self.model = model  # Machine learning model for the learned heuristic\n",
        "\n",
        "    def heuristic(self, state):\n",
        "        # If using learned heuristic (machine learning model)\n",
        "        if self.model:\n",
        "            flattened_state = [tile for row in state for tile in row]  # Flatten 2D state into 1D array\n",
        "            return self.model.predict([flattened_state])[0]  # Predict heuristic with the learned model\n",
        "        # If using traditional heuristic (Manhattan distance)\n",
        "        else:\n",
        "            goal_state = [[1, 2, 3], [4, 5, 6], [7, 8, 0]]  # Fixed goal state matrix\n",
        "            return self.manhattan_distance(state, goal_state)\n",
        "\n",
        "    def manhattan_distance(self, state, goal_state):\n",
        "        \"\"\"Calculate the Manhattan Distance heuristic.\"\"\"\n",
        "        total_distance = 0\n",
        "        for i in range(3):\n",
        "            for j in range(3):\n",
        "                tile = state[i][j]\n",
        "                if tile != 0:\n",
        "                    goal_i, goal_j = [(ix, iy) for ix, row in enumerate(goal_state) for iy, val in enumerate(row) if val == tile][0]\n",
        "                    total_distance += abs(i - goal_i) + abs(j - goal_j)\n",
        "        return total_distance\n",
        "\n",
        "    def generate_children(self, node):\n",
        "        \"\"\"Generate child states by moving the blank tile (0).\"\"\"\n",
        "        children = []\n",
        "        n = 3\n",
        "        moves = [(0, 1), (0, -1), (1, 0), (-1, 0)]  # right, left, down, up\n",
        "        x, y = [(ix, iy) for ix, row in enumerate(node.state) for iy, val in enumerate(row) if val == 0][0]  # Find 0\n",
        "\n",
        "        for move in moves:\n",
        "            new_x, new_y = x + move[0], y + move[1]\n",
        "            if 0 <= new_x < n and 0 <= new_y < n:\n",
        "                new_state = [row[:] for row in node.state]  # Create a copy of the state\n",
        "                new_state[x][y], new_state[new_x][new_y] = new_state[new_x][new_y], new_state[x][y]\n",
        "                child_node = Node(new_state, node.level + 1, 0, node)\n",
        "                children.append(child_node)\n",
        "\n",
        "        return children\n",
        "\n",
        "    def solve(self, initial_state, goal_state):\n",
        "        \"\"\"Implement the A* search algorithm with metrics collection.\"\"\"\n",
        "        open_list = []\n",
        "        closed_set = set()\n",
        "\n",
        "        initial_node = Node(initial_state, 0, 0, None)\n",
        "        initial_node.f_value = self.heuristic(initial_state)\n",
        "        heapq.heappush(open_list, initial_node)\n",
        "\n",
        "        solution_length = 0\n",
        "        nodes_expanded = 0  # Initialize counter\n",
        "\n",
        "        start_time = time.time()  # Start timing the search\n",
        "\n",
        "        while open_list:\n",
        "            current_node = heapq.heappop(open_list)\n",
        "            closed_set.add(tuple(map(tuple, current_node.state)))\n",
        "            nodes_expanded += 1  # Increment nodes expanded\n",
        "\n",
        "            if current_node.state == goal_state:\n",
        "                path = []\n",
        "                while current_node:\n",
        "                    path.append(current_node.state)\n",
        "                    current_node = current_node.parent\n",
        "                    solution_length += 1\n",
        "\n",
        "                end_time = time.time()  # End timing the search\n",
        "                search_time = end_time - start_time  # Calculate the time taken\n",
        "\n",
        "                return (list(reversed(path)), solution_length, nodes_expanded, search_time)\n",
        "\n",
        "            # Generate children nodes\n",
        "            children = self.generate_children(current_node)\n",
        "            for child in children:\n",
        "                if tuple(map(tuple, child.state)) not in closed_set:\n",
        "                    child.f_value = child.level + self.heuristic(child.state)\n",
        "                    heapq.heappush(open_list, child)\n",
        "\n",
        "        end_time = time.time()  # End timing the search\n",
        "        search_time = end_time - start_time\n",
        "\n",
        "        return (None, solution_length, nodes_expanded, search_time)\n",
        "\n",
        "\n",
        "# Instantiate the PuzzleSolver (you can pass your learned model if needed)\n",
        "solver_traditional = PuzzleSolver()  # For traditional heuristic (Manhattan distance)\n",
        "solver_learned = PuzzleSolver(model=model)  # For learned heuristic\n",
        "\n",
        "# New, more complex initial state for testing\n",
        "initial_state = [[7, 2, 4], [5, 0, 6], [8, 3, 1]]  # Example complex state\n",
        "goal_state = [[1, 2, 3], [4, 5, 6], [7, 8, 0]]  # Corrected goal state\n",
        "\n",
        "# Solve using the traditional heuristic (Manhattan distance)\n",
        "result_traditional = solver_traditional.solve(initial_state, goal_state)\n",
        "\n",
        "# Solve using the learned heuristic (with the model)\n",
        "result_learned = solver_learned.solve(initial_state, goal_state)\n",
        "\n",
        "# Print results for the traditional heuristic\n",
        "print(\"Traditional Heuristic Results:\")\n",
        "print(\"Solution Length:\", result_traditional[1])  # Access solution length from tuple\n",
        "print(\"Nodes Expanded:\", result_traditional[2])  # Access nodes expanded\n",
        "print(\"Search Time:\", result_traditional[3])  # Access search time\n",
        "\n",
        "# Print results for the learned heuristic\n",
        "print(\"\\nLearned Heuristic Results:\")\n",
        "print(\"Solution Length:\", result_learned[1])  # Access solution length from tuple\n",
        "print(\"Nodes Expanded:\", result_learned[2])  # Access nodes expanded\n",
        "print(\"Search Time:\", result_learned[3])  # Access search time\n"
      ]
    },
    {
      "cell_type": "markdown",
      "metadata": {
        "id": "K2t2dwqe2iR4"
      },
      "source": [
        "# Next Step: Improving the Learned Heuristic"
      ]
    },
    {
      "cell_type": "markdown",
      "metadata": {
        "id": "ntOdHuIh2o7b"
      },
      "source": [
        "# Feature Engineering\n",
        "\n",
        "\n"
      ]
    },
    {
      "cell_type": "code",
      "execution_count": null,
      "metadata": {
        "id": "TZCORimi2jjF"
      },
      "outputs": [],
      "source": [
        "import numpy as np\n",
        "\n",
        "# Calculate Manhattan distance for a given state\n",
        "def calculate_manhattan_distance(state, goal_state):\n",
        "    total_distance = 0\n",
        "    for i in range(3):\n",
        "        for j in range(3):\n",
        "            tile = state[i][j]\n",
        "            if tile != 0:\n",
        "                goal_i, goal_j = [(ix, iy) for ix, row in enumerate(goal_state) for iy, val in enumerate(row) if val == tile][0]\n",
        "                total_distance += abs(i - goal_i) + abs(j - goal_j)\n",
        "    return total_distance\n",
        "\n",
        "# Calculate misplaced tiles (number of tiles out of place)\n",
        "def calculate_misplaced_tiles(state, goal_state):\n",
        "    misplaced_count = 0\n",
        "    for i in range(3):\n",
        "        for j in range(3):\n",
        "            if state[i][j] != 0 and state[i][j] != goal_state[i][j]:\n",
        "                misplaced_count += 1\n",
        "    return misplaced_count\n",
        "\n",
        "# Calculate correct row and column (whether tiles are in correct row/column)\n",
        "def calculate_correct_row_col(state, goal_state):\n",
        "    correct_row, correct_col = 0, 0\n",
        "    for i in range(3):\n",
        "        for j in range(3):\n",
        "            tile = state[i][j]\n",
        "            if tile != 0:\n",
        "                goal_i, goal_j = [(ix, iy) for ix, row in enumerate(goal_state) for iy, val in enumerate(row) if val == tile][0]\n",
        "                if i == goal_i:\n",
        "                    correct_row += 1\n",
        "                if j == goal_j:\n",
        "                    correct_col += 1\n",
        "    return correct_row, correct_col\n",
        "\n",
        "# Preprocess data by adding these features\n",
        "def preprocess_data_with_additional_features(X, y):\n",
        "    goal_state = [[1, 2, 3], [4, 5, 6], [7, 8, 0]]\n",
        "    features = []\n",
        "\n",
        "    for state_flattened, target in zip(X, y):\n",
        "        state = np.reshape(state_flattened, (3, 3))\n",
        "\n",
        "        # Compute additional features\n",
        "        manhattan_distance = calculate_manhattan_distance(state, goal_state)\n",
        "        misplaced_tiles = calculate_misplaced_tiles(state, goal_state)\n",
        "        correct_row, correct_col = calculate_correct_row_col(state, goal_state)\n",
        "\n",
        "        # Append the new features by concatenating the flattened state and the additional features\n",
        "        features.append(np.concatenate([state_flattened, [manhattan_distance, misplaced_tiles, correct_row, correct_col]]))\n",
        "\n",
        "    return np.array(features), y\n",
        "\n",
        "# Assume you already have X and y (state and solution lengths) from previous code.\n",
        "X_features, y = preprocess_data_with_additional_features(X, y)\n",
        "\n",
        "# Now split the data as before\n",
        "from sklearn.model_selection import train_test_split\n",
        "X_train, X_test, y_train, y_test = train_test_split(X_features, y, test_size=0.2, random_state=42)\n"
      ]
    },
    {
      "cell_type": "markdown",
      "metadata": {
        "id": "S7CMOqwh35qj"
      },
      "source": [
        "# Try Different Models"
      ]
    },
    {
      "cell_type": "markdown",
      "metadata": {
        "id": "7CccOnZv38xb"
      },
      "source": [
        "# Gradient Boosting (with Scikit-learn)"
      ]
    },
    {
      "cell_type": "code",
      "execution_count": null,
      "metadata": {
        "colab": {
          "base_uri": "https://localhost:8080/"
        },
        "id": "mMU21tKm3-bW",
        "outputId": "13a60d27-9f08-439e-917d-f3ee2b79f0f6"
      },
      "outputs": [
        {
          "name": "stdout",
          "output_type": "stream",
          "text": [
            "Gradient Boosting - MSE: 108.30945391253714, MAE: 8.806694864464655\n"
          ]
        }
      ],
      "source": [
        "from sklearn.ensemble import GradientBoostingRegressor\n",
        "from sklearn.metrics import mean_squared_error, mean_absolute_error\n",
        "\n",
        "# Train a Gradient Boosting model\n",
        "gbr_model = GradientBoostingRegressor(n_estimators=200, max_depth=5, random_state=42)\n",
        "gbr_model.fit(X_train, y_train)\n",
        "\n",
        "# Evaluate the model\n",
        "y_pred_gbr = gbr_model.predict(X_test)\n",
        "mse_gbr = mean_squared_error(y_test, y_pred_gbr)\n",
        "mae_gbr = mean_absolute_error(y_test, y_pred_gbr)\n",
        "\n",
        "print(f\"Gradient Boosting - MSE: {mse_gbr}, MAE: {mae_gbr}\")\n"
      ]
    },
    {
      "cell_type": "markdown",
      "metadata": {
        "id": "vYqV95Xh4D0k"
      },
      "source": [
        "# Neural Networks (MLP with Scikit-learn)"
      ]
    },
    {
      "cell_type": "code",
      "execution_count": null,
      "metadata": {
        "colab": {
          "base_uri": "https://localhost:8080/"
        },
        "id": "FE_Gg54E4HJm",
        "outputId": "aebd7fb6-9416-4707-c5f9-65123d049516"
      },
      "outputs": [
        {
          "name": "stdout",
          "output_type": "stream",
          "text": [
            "Neural Network (MLP) - MSE: 154.31832444105316, MAE: 10.237496377253398\n"
          ]
        },
        {
          "name": "stderr",
          "output_type": "stream",
          "text": [
            "/usr/local/lib/python3.10/dist-packages/sklearn/neural_network/_multilayer_perceptron.py:691: ConvergenceWarning: Stochastic Optimizer: Maximum iterations (500) reached and the optimization hasn't converged yet.\n",
            "  warnings.warn(\n"
          ]
        }
      ],
      "source": [
        "from sklearn.neural_network import MLPRegressor\n",
        "\n",
        "# Train a Neural Network model (MLP)\n",
        "mlp_model = MLPRegressor(hidden_layer_sizes=(100, 100), max_iter=500, random_state=42)\n",
        "mlp_model.fit(X_train, y_train)\n",
        "\n",
        "# Evaluate the model\n",
        "y_pred_mlp = mlp_model.predict(X_test)\n",
        "mse_mlp = mean_squared_error(y_test, y_pred_mlp)\n",
        "mae_mlp = mean_absolute_error(y_test, y_pred_mlp)\n",
        "\n",
        "print(f\"Neural Network (MLP) - MSE: {mse_mlp}, MAE: {mae_mlp}\")\n"
      ]
    },
    {
      "cell_type": "markdown",
      "metadata": {
        "id": "r2rPNRqT4Pbz"
      },
      "source": [
        "# Support Vector Regression (SVR)"
      ]
    },
    {
      "cell_type": "code",
      "execution_count": null,
      "metadata": {
        "colab": {
          "base_uri": "https://localhost:8080/"
        },
        "id": "ij0rG0W74QUe",
        "outputId": "6423a616-51a6-489a-a69e-02e3def212e3"
      },
      "outputs": [
        {
          "name": "stdout",
          "output_type": "stream",
          "text": [
            "Support Vector Regression - MSE: 81.51878370035685, MAE: 7.937478301200033\n"
          ]
        }
      ],
      "source": [
        "from sklearn.svm import SVR\n",
        "\n",
        "# Train a Support Vector Regression model\n",
        "svr_model = SVR(kernel='rbf', C=100, gamma=0.1)\n",
        "svr_model.fit(X_train, y_train)\n",
        "\n",
        "# Evaluate the model\n",
        "y_pred_svr = svr_model.predict(X_test)\n",
        "mse_svr = mean_squared_error(y_test, y_pred_svr)\n",
        "mae_svr = mean_absolute_error(y_test, y_pred_svr)\n",
        "\n",
        "print(f\"Support Vector Regression - MSE: {mse_svr}, MAE: {mae_svr}\")\n"
      ]
    },
    {
      "cell_type": "markdown",
      "metadata": {
        "id": "eLWZV8sL4dE1"
      },
      "source": [
        "# PuzzleSolver"
      ]
    },
    {
      "cell_type": "code",
      "execution_count": null,
      "metadata": {
        "colab": {
          "base_uri": "https://localhost:8080/"
        },
        "id": "oOw4JlVo4fsh",
        "outputId": "20b1be91-6a1d-4299-9833-f4bbdc74564a"
      },
      "outputs": [
        {
          "data": {
            "text/plain": [
              "['best_heuristic_model.pkl']"
            ]
          },
          "execution_count": 51,
          "metadata": {},
          "output_type": "execute_result"
        }
      ],
      "source": [
        "from sklearn.ensemble import GradientBoostingRegressor\n",
        "\n",
        "# Example: Gradient Boosting Regressor (best performing model)\n",
        "gbr_model = GradientBoostingRegressor(n_estimators=200, max_depth=5, random_state=42)\n",
        "gbr_model.fit(X_train, y_train)\n",
        "\n",
        "# Save the model (optional, in case you want to use it later)\n",
        "import joblib\n",
        "joblib.dump(gbr_model, 'best_heuristic_model.pkl')\n",
        "\n",
        "# You can load it later if needed:\n",
        "# model = joblib.load('best_heuristic_model.pkl')\n"
      ]
    },
    {
      "cell_type": "code",
      "execution_count": null,
      "metadata": {
        "colab": {
          "base_uri": "https://localhost:8080/"
        },
        "id": "4UO9bzET5lJI",
        "outputId": "850bace8-2c06-4550-9435-4cee0eab6e67"
      },
      "outputs": [
        {
          "name": "stdout",
          "output_type": "stream",
          "text": [
            "Learned Heuristic Results:\n",
            "Solution Length: 23\n",
            "Nodes Expanded: 181963\n",
            "Search Time: 122.95710945129395\n",
            "\n",
            "Traditional Heuristic Results:\n",
            "Solution Length: 21\n",
            "Nodes Expanded: 273\n",
            "Search Time: 0.01513528823852539\n"
          ]
        }
      ],
      "source": [
        "import time\n",
        "import heapq\n",
        "import numpy as np\n",
        "import joblib\n",
        "\n",
        "# Load the best-performing model (if not already loaded)\n",
        "model = joblib.load('best_heuristic_model.pkl')\n",
        "\n",
        "# A class representing each node in the search\n",
        "class Node:\n",
        "    def __init__(self, state, level, f_value, parent=None):\n",
        "        self.state = state\n",
        "        self.level = level  # Number of moves taken to reach this state\n",
        "        self.f_value = f_value  # f(n) = g(n) + h(n), g(n) is the level, h(n) is the heuristic\n",
        "        self.parent = parent  # Pointer to the parent node\n",
        "\n",
        "    def __lt__(self, other):\n",
        "        return self.f_value < other.f_value  # For priority queue comparison\n",
        "\n",
        "class PuzzleSolver:\n",
        "    def __init__(self, model=None):\n",
        "        self.model = model  # The machine learning model for the learned heuristic\n",
        "\n",
        "    def heuristic(self, state):\n",
        "        # If using the learned heuristic (machine learning model)\n",
        "        if self.model:\n",
        "            # Flatten the state and add the additional features for the prediction\n",
        "            flattened_state = [tile for row in state for tile in row]\n",
        "\n",
        "            # Calculate additional features (same as during training)\n",
        "            goal_state = [[1, 2, 3], [4, 5, 6], [7, 8, 0]]\n",
        "            manhattan_distance = calculate_manhattan_distance(state, goal_state)\n",
        "            misplaced_tiles = calculate_misplaced_tiles(state, goal_state)\n",
        "            correct_row, correct_col = calculate_correct_row_col(state, goal_state)\n",
        "\n",
        "            # Combine the features for prediction\n",
        "            feature_vector = np.concatenate([flattened_state, [manhattan_distance, misplaced_tiles, correct_row, correct_col]])\n",
        "\n",
        "            # Use the model to predict the heuristic value\n",
        "            return self.model.predict([feature_vector])[0]\n",
        "        else:\n",
        "            # Traditional heuristic (Manhattan distance)\n",
        "            goal_state = [[1, 2, 3], [4, 5, 6], [7, 8, 0]]\n",
        "            return self.manhattan_distance(state, goal_state)\n",
        "\n",
        "    def manhattan_distance(self, state, goal_state):\n",
        "        \"\"\"Calculate the Manhattan Distance heuristic.\"\"\"\n",
        "        total_distance = 0\n",
        "        for i in range(3):\n",
        "            for j in range(3):\n",
        "                tile = state[i][j]\n",
        "                if tile != 0:\n",
        "                    goal_i, goal_j = [(ix, iy) for ix, row in enumerate(goal_state) for iy, val in enumerate(row) if val == tile][0]\n",
        "                    total_distance += abs(i - goal_i) + abs(j - goal_j)\n",
        "        return total_distance\n",
        "\n",
        "    def generate_children(self, node):\n",
        "        \"\"\"Generate child states by moving the blank tile (0).\"\"\"\n",
        "        children = []\n",
        "        n = 3\n",
        "        moves = [(0, 1), (0, -1), (1, 0), (-1, 0)]  # right, left, down, up\n",
        "        x, y = [(ix, iy) for ix, row in enumerate(node.state) for iy, val in enumerate(row) if val == 0][0]  # Find 0\n",
        "\n",
        "        for move in moves:\n",
        "            new_x, new_y = x + move[0], y + move[1]\n",
        "            if 0 <= new_x < n and 0 <= new_y < n:\n",
        "                new_state = [row[:] for row in node.state]  # Create a copy of the state\n",
        "                new_state[x][y], new_state[new_x][new_y] = new_state[new_x][new_y], new_state[x][y]\n",
        "                child_node = Node(new_state, node.level + 1, 0, node)\n",
        "                children.append(child_node)\n",
        "\n",
        "        return children\n",
        "\n",
        "    def solve(self, initial_state, goal_state):\n",
        "        \"\"\"Implement the A* search algorithm with metrics collection.\"\"\"\n",
        "        open_list = []\n",
        "        closed_set = set()\n",
        "\n",
        "        initial_node = Node(initial_state, 0, 0, None)\n",
        "        initial_node.f_value = self.heuristic(initial_state)\n",
        "        heapq.heappush(open_list, initial_node)\n",
        "\n",
        "        solution_length = 0\n",
        "        nodes_expanded = 0  # Initialize counter\n",
        "\n",
        "        start_time = time.time()  # Start timing the search\n",
        "\n",
        "        while open_list:\n",
        "            current_node = heapq.heappop(open_list)\n",
        "            closed_set.add(tuple(map(tuple, current_node.state)))\n",
        "            nodes_expanded += 1  # Increment nodes expanded\n",
        "\n",
        "            if current_node.state == goal_state:\n",
        "                path = []\n",
        "                while current_node:\n",
        "                    path.append(current_node.state)\n",
        "                    current_node = current_node.parent\n",
        "                    solution_length += 1\n",
        "\n",
        "                end_time = time.time()  # End timing the search\n",
        "                search_time = end_time - start_time  # Calculate the time taken\n",
        "\n",
        "                return (list(reversed(path)), solution_length, nodes_expanded, search_time)\n",
        "\n",
        "            # Generate children nodes\n",
        "            children = self.generate_children(current_node)\n",
        "            for child in children:\n",
        "                if tuple(map(tuple, child.state)) not in closed_set:\n",
        "                    child.f_value = child.level + self.heuristic(child.state)\n",
        "                    heapq.heappush(open_list, child)\n",
        "\n",
        "        end_time = time.time()  # End timing the search\n",
        "        search_time = end_time - start_time\n",
        "\n",
        "        return (None, solution_length, nodes_expanded, search_time)\n",
        "\n",
        "# Define the initial state and goal state\n",
        "initial_state = [[7, 2, 4], [5, 0, 6], [8, 3, 1]]  # Complex starting state\n",
        "goal_state = [[1, 2, 3], [4, 5, 6], [7, 8, 0]]  # Goal state\n",
        "\n",
        "# Instantiate the PuzzleSolver with the learned model\n",
        "solver_learned = PuzzleSolver(model=model)\n",
        "\n",
        "# Solve the puzzle using the learned heuristic (from the best model)\n",
        "result_learned = solver_learned.solve(initial_state, goal_state)\n",
        "\n",
        "# Print the results from the learned heuristic\n",
        "print(\"Learned Heuristic Results:\")\n",
        "print(\"Solution Length:\", result_learned[1])\n",
        "print(\"Nodes Expanded:\", result_learned[2])\n",
        "print(\"Search Time:\", result_learned[3])\n",
        "\n",
        "# Instantiate the PuzzleSolver for the traditional heuristic (Manhattan distance)\n",
        "solver_traditional = PuzzleSolver()\n",
        "\n",
        "# Solve the puzzle using the traditional heuristic (Manhattan distance)\n",
        "result_traditional = solver_traditional.solve(initial_state, goal_state)\n",
        "\n",
        "# Print the results from the traditional heuristic\n",
        "print(\"\\nTraditional Heuristic Results:\")\n",
        "print(\"Solution Length:\", result_traditional[1])\n",
        "print(\"Nodes Expanded:\", result_traditional[2])\n",
        "print(\"Search Time:\", result_traditional[3])\n"
      ]
    },
    {
      "cell_type": "markdown",
      "metadata": {
        "id": "Qpj588_S6mKo"
      },
      "source": [
        "# Another Try"
      ]
    },
    {
      "cell_type": "markdown",
      "metadata": {
        "id": "YQMoaTjQ6tH9"
      },
      "source": [
        "# Trying a New Model (XGBoost)"
      ]
    },
    {
      "cell_type": "code",
      "execution_count": null,
      "metadata": {
        "colab": {
          "base_uri": "https://localhost:8080/"
        },
        "id": "-6b6f08f6odu",
        "outputId": "b651f21e-24b7-4a18-8af3-cde81a9a499e"
      },
      "outputs": [
        {
          "name": "stdout",
          "output_type": "stream",
          "text": [
            "XGBoost - MSE: 100.5766014463566, MAE: 8.402898656129837\n"
          ]
        }
      ],
      "source": [
        "from xgboost import XGBRegressor\n",
        "from sklearn.metrics import mean_squared_error, mean_absolute_error\n",
        "\n",
        "# Train an XGBoost model\n",
        "xgb_model = XGBRegressor(n_estimators=500, max_depth=6, learning_rate=0.1, random_state=42)\n",
        "xgb_model.fit(X_train, y_train)\n",
        "\n",
        "# Save the trained model\n",
        "joblib.dump(xgb_model, 'xgb_heuristic_model.pkl')\n",
        "\n",
        "# Evaluate the XGBoost model\n",
        "y_pred_xgb = xgb_model.predict(X_test)\n",
        "mse_xgb = mean_squared_error(y_test, y_pred_xgb)\n",
        "mae_xgb = mean_absolute_error(y_test, y_pred_xgb)\n",
        "\n",
        "print(f\"XGBoost - MSE: {mse_xgb}, MAE: {mae_xgb}\")\n"
      ]
    },
    {
      "cell_type": "markdown",
      "metadata": {
        "id": "u6B1baKX7cSA"
      },
      "source": [
        "# Grid Search for XGBoost:"
      ]
    },
    {
      "cell_type": "code",
      "execution_count": null,
      "metadata": {
        "colab": {
          "base_uri": "https://localhost:8080/"
        },
        "id": "qC47TBT47cuY",
        "outputId": "96c21f75-08ca-40c3-8523-a8a200bcf240"
      },
      "outputs": [
        {
          "name": "stdout",
          "output_type": "stream",
          "text": [
            "Fitting 3 folds for each of 27 candidates, totalling 81 fits\n",
            "Best parameters: {'learning_rate': 0.01, 'max_depth': 3, 'n_estimators': 100}\n",
            "Best XGBoost - MSE: 77.47485599399506, MAE: 7.802786221504212\n"
          ]
        }
      ],
      "source": [
        "from sklearn.model_selection import GridSearchCV\n",
        "from xgboost import XGBRegressor\n",
        "\n",
        "# Define parameter grid for XGBoost\n",
        "param_grid = {\n",
        "    'n_estimators': [100, 200, 500],\n",
        "    'max_depth': [3, 5, 7],\n",
        "    'learning_rate': [0.01, 0.1, 0.3]\n",
        "}\n",
        "\n",
        "# Set up GridSearchCV for tuning\n",
        "grid_search = GridSearchCV(estimator=XGBRegressor(random_state=42),\n",
        "                           param_grid=param_grid,\n",
        "                           scoring='neg_mean_squared_error',\n",
        "                           cv=3,\n",
        "                           verbose=1)\n",
        "\n",
        "# Perform the grid search on the training data\n",
        "grid_search.fit(X_train, y_train)\n",
        "\n",
        "# Best model from grid search\n",
        "best_model = grid_search.best_estimator_\n",
        "\n",
        "# Save the best model\n",
        "joblib.dump(best_model, 'best_xgb_heuristic_model.pkl')\n",
        "\n",
        "# Print the best parameters\n",
        "print(f\"Best parameters: {grid_search.best_params_}\")\n",
        "\n",
        "# Evaluate the best model\n",
        "y_pred_best = best_model.predict(X_test)\n",
        "mse_best = mean_squared_error(y_test, y_pred_best)\n",
        "mae_best = mean_absolute_error(y_test, y_pred_best)\n",
        "\n",
        "print(f\"Best XGBoost - MSE: {mse_best}, MAE: {mae_best}\")\n"
      ]
    },
    {
      "cell_type": "markdown",
      "metadata": {
        "id": "d50YqPMo_05d"
      },
      "source": []
    },
    {
      "cell_type": "code",
      "execution_count": null,
      "metadata": {
        "colab": {
          "background_save": true
        },
        "id": "i0d8vVoT_zGu",
        "outputId": "eba2d471-6892-46de-86ca-3fd34de83d52"
      },
      "outputs": [
        {
          "name": "stdout",
          "output_type": "stream",
          "text": [
            "Learned Heuristic Results:\n",
            "Solution Length: 21\n",
            "Nodes Expanded: 103291\n",
            "Search Time: 153.16206192970276\n",
            "\n",
            "Traditional Heuristic Results:\n",
            "Solution Length: 21\n",
            "Nodes Expanded: 273\n",
            "Search Time: 0.014414787292480469\n"
          ]
        }
      ],
      "source": [
        "import joblib\n",
        "\n",
        "# Best model after grid search\n",
        "best_model = grid_search.best_estimator_\n",
        "\n",
        "# Save the best model (optional)\n",
        "joblib.dump(best_model, 'best_xgb_heuristic_model.pkl')\n",
        "\n",
        "# Load the best model (if needed later)\n",
        "# best_model = joblib.load('best_xgb_heuristic_model.pkl')\n",
        "\n",
        "# Instantiate the PuzzleSolver class with the tuned model\n",
        "solver_learned = PuzzleSolver(model=best_model)\n",
        "\n",
        "# Define the initial state and goal state\n",
        "initial_state = [[7, 2, 4], [5, 0, 6], [8, 3, 1]]  # Example starting state\n",
        "goal_state = [[1, 2, 3], [4, 5, 6], [7, 8, 0]]  # Goal state\n",
        "\n",
        "# Solve the puzzle using the learned heuristic (XGBoost model)\n",
        "result_learned = solver_learned.solve(initial_state, goal_state)\n",
        "\n",
        "# Print the results for the learned heuristic\n",
        "print(\"Learned Heuristic Results:\")\n",
        "print(\"Solution Length:\", result_learned[1])\n",
        "print(\"Nodes Expanded:\", result_learned[2])\n",
        "print(\"Search Time:\", result_learned[3])\n",
        "\n",
        "# Instantiate the PuzzleSolver class for the traditional heuristic (Manhattan distance)\n",
        "solver_traditional = PuzzleSolver()\n",
        "\n",
        "# Solve the puzzle using the traditional heuristic (Manhattan distance)\n",
        "result_traditional = solver_traditional.solve(initial_state, goal_state)\n",
        "\n",
        "# Print the results for the traditional heuristic\n",
        "print(\"\\nTraditional Heuristic Results:\")\n",
        "print(\"Solution Length:\", result_traditional[1])\n",
        "print(\"Nodes Expanded:\", result_traditional[2])\n",
        "print(\"Search Time:\", result_traditional[3])\n"
      ]
    },
    {
      "cell_type": "code",
      "execution_count": null,
      "metadata": {
        "colab": {
          "base_uri": "https://localhost:8080/"
        },
        "id": "ACTDQQPM63Nd",
        "outputId": "e2262f0a-90dd-4e7b-de2b-4f8d49cc28fd"
      },
      "outputs": [
        {
          "name": "stdout",
          "output_type": "stream",
          "text": [
            "Learned Heuristic (XGBoost) Results:\n",
            "Solution Length: 23\n",
            "Nodes Expanded: 103116\n",
            "Search Time: 186.41129565238953\n"
          ]
        }
      ],
      "source": [
        "# Load the XGBoost model (after training it)\n",
        "model_xgb = joblib.load('xgb_heuristic_model.pkl')\n",
        "\n",
        "# Instantiate the PuzzleSolver with the XGBoost model\n",
        "solver_learned_xgb = PuzzleSolver(model=model_xgb)\n",
        "\n",
        "# Solve the puzzle using the learned heuristic (XGBoost model)\n",
        "result_learned_xgb = solver_learned_xgb.solve(initial_state, goal_state)\n",
        "\n",
        "# Print the results from the learned heuristic (XGBoost)\n",
        "print(\"Learned Heuristic (XGBoost) Results:\")\n",
        "print(\"Solution Length:\", result_learned_xgb[1])\n",
        "print(\"Nodes Expanded:\", result_learned_xgb[2])\n",
        "print(\"Search Time:\", result_learned_xgb[3])\n"
      ]
    },
    {
      "cell_type": "markdown",
      "source": [],
      "metadata": {
        "id": "hFNwrDBukZX2"
      }
    },
    {
      "cell_type": "markdown",
      "source": [
        "Comparison for presentation"
      ],
      "metadata": {
        "id": "IFKvQ56Wkcmn"
      }
    },
    {
      "cell_type": "code",
      "source": [
        "import matplotlib.pyplot as plt\n",
        "\n",
        "# Data\n",
        "models = ['Linear Regression', 'Random Forest', 'XGBoost', 'Traditional Heuristic']\n",
        "nodes_expanded = [1525, 334, 127, 273]  # From the table\n",
        "\n",
        "# Visualization\n",
        "plt.figure(figsize=(8, 5))\n",
        "plt.bar(models, nodes_expanded, color=['blue', 'green', 'red', 'orange'])\n",
        "\n",
        "# Titles and labels\n",
        "plt.title('Nodes Expanded: Model vs Traditional Heuristic')\n",
        "plt.xlabel('Model')\n",
        "plt.ylabel('Nodes Expanded')\n",
        "\n",
        "# Highlight Traditional Heuristic for clarity\n",
        "plt.axhline(y=273, color='gray', linestyle='--', label='Traditional Heuristic')\n",
        "plt.legend()\n",
        "\n",
        "plt.show()\n",
        "\n"
      ],
      "metadata": {
        "colab": {
          "base_uri": "https://localhost:8080/",
          "height": 487
        },
        "id": "c9kdmjhLkQJH",
        "outputId": "29102add-0ac4-4a2a-9d1d-dc7f36eafed2"
      },
      "execution_count": null,
      "outputs": [
        {
          "output_type": "display_data",
          "data": {
            "text/plain": [
              "<Figure size 800x500 with 1 Axes>"
            ],
            "image/png": "[encoded data removed]"
          },
          "metadata": {}
        }
      ]
    },
    {
      "cell_type": "markdown",
      "source": [
        "Search time comparison"
      ],
      "metadata": {
        "id": "MWvLBoJVkoUr"
      }
    },
    {
      "cell_type": "code",
      "source": [
        "import matplotlib.pyplot as plt\n",
        "\n",
        "# Data\n",
        "models = ['Linear Regression', 'Random Forest', 'XGBoost', 'Traditional Heuristic']\n",
        "search_time = [0.44, 2.89, 0.15, 0.013]  # Search time in seconds\n",
        "\n",
        "# Visualization\n",
        "plt.figure(figsize=(8, 5))\n",
        "plt.bar(models, search_time, color=['blue', 'green', 'red', 'orange'])\n",
        "\n",
        "# Titles and labels\n",
        "plt.title('Search Time: Model vs Traditional Heuristic')\n",
        "plt.xlabel('Model')\n",
        "plt.ylabel('Search Time (seconds)')\n",
        "\n",
        "# Highlight Traditional Heuristic for clarity\n",
        "plt.axhline(y=0.013, color='gray', linestyle='--', label='Traditional Heuristic')\n",
        "plt.legend()\n",
        "\n",
        "plt.show()\n"
      ],
      "metadata": {
        "colab": {
          "base_uri": "https://localhost:8080/",
          "height": 487
        },
        "id": "WZTAlnYUknZg",
        "outputId": "30289922-92b3-4c1d-a46c-05e2a5303e0e"
      },
      "execution_count": null,
      "outputs": [
        {
          "output_type": "display_data",
          "data": {
            "text/plain": [
              "<Figure size 800x500 with 1 Axes>"
            ],
            "image/png": "[encoded data removed]"
          },
          "metadata": {}
        }
      ]
    },
    {
      "cell_type": "markdown",
      "source": [
        "Overall Comparison"
      ],
      "metadata": {
        "id": "DyVnaub2kviE"
      }
    },
    {
      "cell_type": "code",
      "source": [
        "import numpy as np\n",
        "import matplotlib.pyplot as plt\n",
        "\n",
        "# Data\n",
        "models = ['Linear Regression', 'Random Forest', 'XGBoost', 'Traditional Heuristic']\n",
        "nodes_expanded = [1525, 334, 127, 273]\n",
        "search_time = [0.44, 2.89, 0.15, 0.013]\n",
        "\n",
        "# Create subplots for dual comparison\n",
        "fig, ax1 = plt.subplots(figsize=(10, 6))\n",
        "\n",
        "# Set position of bars\n",
        "bar_width = 0.35\n",
        "index = np.arange(len(models))\n",
        "\n",
        "# Plot Nodes Expanded\n",
        "bar1 = ax1.bar(index, nodes_expanded, bar_width, color='blue', label='Nodes Expanded')\n",
        "\n",
        "# Create a secondary axis for search time\n",
        "ax2 = ax1.twinx()\n",
        "bar2 = ax2.bar(index + bar_width, search_time, bar_width, color='green', label='Search Time (s)')\n",
        "\n",
        "# Labels and titles\n",
        "ax1.set_xlabel('Model')\n",
        "ax1.set_ylabel('Nodes Expanded', color='blue')\n",
        "ax2.set_ylabel('Search Time (seconds)', color='green')\n",
        "plt.title('Nodes Expanded vs Search Time for Different Models')\n",
        "\n",
        "# X-axis labels\n",
        "plt.xticks(index + bar_width / 2, models)\n",
        "\n",
        "# Legend\n",
        "ax1.legend(loc='upper left')\n",
        "ax2.legend(loc='upper right')\n",
        "\n",
        "plt.show()\n"
      ],
      "metadata": {
        "id": "VL7tOSLPkyyJ",
        "outputId": "65de1911-1a0f-4b09-b53a-cc93b3ead6c0",
        "colab": {
          "base_uri": "https://localhost:8080/",
          "height": 532
        }
      },
      "execution_count": null,
      "outputs": [
        {
          "output_type": "display_data",
          "data": {
            "text/plain": [
              "<Figure size 1000x600 with 2 Axes>"
            ],
            "image/png": "[encoded data removed]"
          },
          "metadata": {}
        }
      ]
    }
  ],
  "metadata": {
    "colab": {
      "provenance": []
    },
    "kernelspec": {
      "display_name": "Python 3",
      "name": "python3"
    },
    "language_info": {
      "name": "python"
    }
  },
  "nbformat": 4,
  "nbformat_minor": 0
}