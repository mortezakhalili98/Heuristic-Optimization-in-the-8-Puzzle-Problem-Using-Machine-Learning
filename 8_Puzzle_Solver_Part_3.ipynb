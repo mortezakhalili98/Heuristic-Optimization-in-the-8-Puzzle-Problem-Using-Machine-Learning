{
  "nbformat": 4,
  "nbformat_minor": 0,
  "metadata": {
    "colab": {
      "provenance": []
    },
    "kernelspec": {
      "name": "python3",
      "display_name": "Python 3"
    },
    "language_info": {
      "name": "python"
    }
  },
  "cells": [
    {
      "cell_type": "markdown",
      "source": [
        "# Load the data"
      ],
      "metadata": {
        "id": "sAtkdHj2GrHb"
      }
    },
    {
      "cell_type": "code",
      "source": [
        "import sqlite3\n",
        "import pandas as pd\n",
        "import numpy as np\n",
        "\n",
        "# Load data from the SQLite database\n",
        "def load_data_from_db(db_path):\n",
        "    conn = sqlite3.connect(db_path)\n",
        "    cursor = conn.cursor()\n",
        "\n",
        "    # Fetch all state and solution length pairs\n",
        "    cursor.execute(\"SELECT state, solution_length FROM puzzle_states\")\n",
        "    data = cursor.fetchall()\n",
        "\n",
        "    # Close the connection\n",
        "    conn.close()\n",
        "\n",
        "    # Create a DataFrame from the fetched data\n",
        "    df = pd.DataFrame(data, columns=['state', 'solution_length'])\n",
        "\n",
        "    return df\n",
        "\n",
        "# Calculate the Manhattan distance for each puzzle state\n",
        "def calculate_manhattan_distance(state, goal_state):\n",
        "    total_distance = 0\n",
        "    state_reshaped = np.reshape(state, (3, 3))  # Convert the flat state into a 3x3 grid\n",
        "    for i in range(3):\n",
        "        for j in range(3):\n",
        "            tile = state_reshaped[i][j]\n",
        "            if tile != 0:  # Ignore the blank tile\n",
        "                goal_i, goal_j = [(ix, iy) for ix, row in enumerate(goal_state) for iy, val in enumerate(row) if val == tile][0]\n",
        "                total_distance += abs(i - goal_i) + abs(j - goal_j)\n",
        "    return total_distance\n",
        "\n",
        "# Preprocess the data: load the state, compute Manhattan distance, and return a DataFrame\n",
        "def preprocess_data(df):\n",
        "    goal_state = [[1, 2, 3], [4, 5, 6], [7, 8, 0]]  # Define the goal state\n",
        "    manhattan_distances = []\n",
        "\n",
        "    # Compute Manhattan distance for each state\n",
        "    for state_str in df['state']:\n",
        "        state_list = eval(state_str)  # Convert the string representation of the state to a list\n",
        "        flattened_state = [tile for row in state_list for tile in row]  # Flatten the state\n",
        "        manhattan_distance = calculate_manhattan_distance(flattened_state, goal_state)\n",
        "        manhattan_distances.append(manhattan_distance)\n",
        "\n",
        "    # Add the Manhattan distance to the DataFrame\n",
        "    df['manhattan_distance'] = manhattan_distances\n",
        "\n",
        "    return df\n",
        "\n",
        "# Specify the path to your SQLite database\n",
        "db_path = '/content/puzzle_database.db'\n",
        "\n",
        "# Load the data from the database\n",
        "df = load_data_from_db(db_path)\n",
        "\n",
        "# Preprocess the data (compute Manhattan distance)\n",
        "df = preprocess_data(df)\n",
        "\n",
        "# Check if the data looks correct\n",
        "print(df.head())\n"
      ],
      "metadata": {
        "colab": {
          "base_uri": "https://localhost:8080/"
        },
        "id": "zD-J7-BdGtfM",
        "outputId": "d101d43d-6185-4713-ecbe-833787154471"
      },
      "execution_count": null,
      "outputs": [
        {
          "output_type": "stream",
          "name": "stdout",
          "text": [
            "                               state  solution_length  manhattan_distance\n",
            "0  [[1, 2, 3], [4, 5, 6], [7, 8, 0]]                0                   0\n",
            "1  [[1, 2, 3], [4, 5, 6], [7, 0, 8]]                1                   1\n",
            "2  [[1, 2, 3], [4, 5, 0], [7, 8, 6]]                1                   1\n",
            "3  [[1, 2, 3], [4, 5, 6], [0, 7, 8]]                2                   2\n",
            "4  [[1, 2, 3], [4, 0, 6], [7, 5, 8]]                2                   2\n"
          ]
        }
      ]
    },
    {
      "cell_type": "markdown",
      "source": [
        "# Train a Simple Linear Regression Model"
      ],
      "metadata": {
        "id": "qnEpz0n0F0Ul"
      }
    },
    {
      "cell_type": "code",
      "execution_count": null,
      "metadata": {
        "id": "a4pDqOCaXQWB",
        "colab": {
          "base_uri": "https://localhost:8080/"
        },
        "outputId": "f5c4d90d-4a88-4a6a-c1dc-d9b271444234"
      },
      "outputs": [
        {
          "output_type": "stream",
          "name": "stdout",
          "text": [
            "Linear Regression - MSE: 7.779769029707702, MAE: 2.1957904558767747\n"
          ]
        }
      ],
      "source": [
        "from sklearn.linear_model import LinearRegression\n",
        "from sklearn.model_selection import train_test_split\n",
        "from sklearn.metrics import mean_squared_error, mean_absolute_error\n",
        "\n",
        "# Extract the Manhattan distance as the feature and solution length as the target\n",
        "X = df['manhattan_distance'].values.reshape(-1, 1)  # Feature: Manhattan distance\n",
        "y = df['solution_length'].values  # Target: Solution length\n",
        "\n",
        "# Split the data into training and test sets\n",
        "X_train, X_test, y_train, y_test = train_test_split(X, y, test_size=0.2, random_state=42)\n",
        "\n",
        "# Train the Linear Regression model\n",
        "lr_model = LinearRegression()\n",
        "lr_model.fit(X_train, y_train)\n",
        "\n",
        "# Evaluate the model\n",
        "y_pred = lr_model.predict(X_test)\n",
        "mse = mean_squared_error(y_test, y_pred)\n",
        "mae = mean_absolute_error(y_test, y_pred)\n",
        "\n",
        "print(f\"Linear Regression - MSE: {mse}, MAE: {mae}\")\n"
      ]
    },
    {
      "cell_type": "markdown",
      "source": [
        "# PuzzleSolver"
      ],
      "metadata": {
        "id": "FEjZrJW1HsF5"
      }
    },
    {
      "cell_type": "code",
      "source": [
        "import heapq\n",
        "import time\n",
        "import numpy as np\n",
        "\n",
        "class Node:\n",
        "    def __init__(self, state, level, f_value, parent=None):\n",
        "        self.state = state\n",
        "        self.level = level  # Number of moves taken to reach this state\n",
        "        self.f_value = f_value  # f(n) = g(n) + h(n), g(n) is the level, h(n) is the heuristic\n",
        "        self.parent = parent  # Pointer to the parent node\n",
        "\n",
        "    def __lt__(self, other):\n",
        "        return self.f_value < other.f_value  # For priority queue comparison\n",
        "\n",
        "\n",
        "class PuzzleSolver:\n",
        "    def __init__(self, model=None):\n",
        "        self.model = model  # The machine learning model for the learned heuristic\n",
        "\n",
        "    def heuristic(self, state):\n",
        "        \"\"\"Compute the heuristic based on the model or Manhattan distance.\"\"\"\n",
        "        if self.model:\n",
        "            # Flatten the state to pass it into the model\n",
        "            flattened_state = [tile for row in state for tile in row]\n",
        "\n",
        "            # Assume Manhattan distance as a feature (optional)\n",
        "            goal_state = [[1, 2, 3], [4, 5, 6], [7, 8, 0]]\n",
        "            manhattan_distance = calculate_manhattan_distance(flattened_state, goal_state)\n",
        "\n",
        "            # Use the model to predict the heuristic value\n",
        "            return self.model.predict([[manhattan_distance]])[0]  # Use the model's prediction\n",
        "        else:\n",
        "            # Traditional Manhattan distance heuristic\n",
        "            goal_state = [[1, 2, 3], [4, 5, 6], [7, 8, 0]]\n",
        "            return self.manhattan_distance(state, goal_state)\n",
        "\n",
        "    def manhattan_distance(self, state, goal_state):\n",
        "        \"\"\"Calculate the Manhattan distance heuristic.\"\"\"\n",
        "        total_distance = 0\n",
        "        for i in range(3):\n",
        "            for j in range(3):\n",
        "                tile = state[i][j]\n",
        "                if tile != 0:\n",
        "                    goal_i, goal_j = [(ix, iy) for ix, row in enumerate(goal_state) for iy, val in enumerate(row) if val == tile][0]\n",
        "                    total_distance += abs(i - goal_i) + abs(j - goal_j)\n",
        "        return total_distance\n",
        "\n",
        "    def generate_children(self, node):\n",
        "        \"\"\"Generate child states by moving the blank tile (0).\"\"\"\n",
        "        children = []\n",
        "        n = 3\n",
        "        moves = [(0, 1), (0, -1), (1, 0), (-1, 0)]  # right, left, down, up\n",
        "        x, y = [(ix, iy) for ix, row in enumerate(node.state) for iy, val in enumerate(row) if val == 0][0]  # Find 0\n",
        "\n",
        "        for move in moves:\n",
        "            new_x, new_y = x + move[0], y + move[1]\n",
        "            if 0 <= new_x < n and 0 <= new_y < n:\n",
        "                new_state = [row[:] for row in node.state]  # Create a copy of the state\n",
        "                new_state[x][y], new_state[new_x][new_y] = new_state[new_x][new_y], new_state[x][y]\n",
        "                child_node = Node(new_state, node.level + 1, 0, node)\n",
        "                children.append(child_node)\n",
        "\n",
        "        return children\n",
        "\n",
        "    def solve(self, initial_state, goal_state):\n",
        "        \"\"\"Implement the A* search algorithm with metrics collection.\"\"\"\n",
        "        open_list = []\n",
        "        closed_set = set()\n",
        "\n",
        "        initial_node = Node(initial_state, 0, 0, None)\n",
        "        initial_node.f_value = self.heuristic(initial_state)\n",
        "        heapq.heappush(open_list, initial_node)\n",
        "\n",
        "        solution_length = 0\n",
        "        nodes_expanded = 0  # Initialize counter\n",
        "\n",
        "        start_time = time.time()  # Start timing the search\n",
        "\n",
        "        while open_list:\n",
        "            current_node = heapq.heappop(open_list)\n",
        "            closed_set.add(tuple(map(tuple, current_node.state)))\n",
        "            nodes_expanded += 1  # Increment nodes expanded\n",
        "\n",
        "            if current_node.state == goal_state:\n",
        "                path = []\n",
        "                while current_node:\n",
        "                    path.append(current_node.state)\n",
        "                    current_node = current_node.parent\n",
        "                    solution_length += 1\n",
        "\n",
        "                end_time = time.time()  # End timing the search\n",
        "                search_time = end_time - start_time  # Calculate the time taken\n",
        "\n",
        "                return (list(reversed(path)), solution_length, nodes_expanded, search_time)\n",
        "\n",
        "            # Generate children nodes\n",
        "            children = self.generate_children(current_node)\n",
        "            for child in children:\n",
        "                if tuple(map(tuple, child.state)) not in closed_set:\n",
        "                    child.f_value = child.level + self.heuristic(child.state)\n",
        "                    heapq.heappush(open_list, child)\n",
        "\n",
        "        end_time = time.time()  # End timing the search\n",
        "        search_time = end_time - start_time\n",
        "\n",
        "        return (None, solution_length, nodes_expanded, search_time)\n"
      ],
      "metadata": {
        "id": "G7jZztBNHyQi"
      },
      "execution_count": null,
      "outputs": []
    },
    {
      "cell_type": "markdown",
      "source": [
        "# Using the PuzzleSolver Class with the Linear Regression Model:"
      ],
      "metadata": {
        "id": "pCtKT2iiH2TE"
      }
    },
    {
      "cell_type": "code",
      "source": [
        "# Instantiate the PuzzleSolver class with the Linear Regression model\n",
        "solver_learned = PuzzleSolver(model=lr_model)\n",
        "\n",
        "# Define the initial state and goal state\n",
        "initial_state = [[7, 2, 4], [5, 0, 6], [8, 3, 1]]  # Example initial state\n",
        "goal_state = [[1, 2, 3], [4, 5, 6], [7, 8, 0]]  # Goal state\n",
        "\n",
        "# Solve the puzzle using the learned heuristic (Linear Regression model)\n",
        "result_learned = solver_learned.solve(initial_state, goal_state)\n",
        "\n",
        "# Print the results for the learned heuristic\n",
        "print(\"Learned Heuristic Results:\")\n",
        "print(\"Solution Length:\", result_learned[1])\n",
        "print(\"Nodes Expanded:\", result_learned[2])\n",
        "print(\"Search Time:\", result_learned[3])\n",
        "\n",
        "# Instantiate the PuzzleSolver class for the traditional heuristic (Manhattan distance)\n",
        "solver_traditional = PuzzleSolver()\n",
        "\n",
        "# Solve the puzzle using the traditional heuristic (Manhattan distance)\n",
        "result_traditional = solver_traditional.solve(initial_state, goal_state)\n",
        "\n",
        "# Print the results for the traditional heuristic\n",
        "print(\"\\nTraditional Heuristic Results:\")\n",
        "print(\"Solution Length:\", result_traditional[1])\n",
        "print(\"Nodes Expanded:\", result_traditional[2])\n",
        "print(\"Search Time:\", result_traditional[3])\n"
      ],
      "metadata": {
        "colab": {
          "base_uri": "https://localhost:8080/"
        },
        "id": "Exz2fEZEH3q0",
        "outputId": "e5255c0d-5045-4373-f254-5ccf2822ceaa"
      },
      "execution_count": null,
      "outputs": [
        {
          "output_type": "stream",
          "name": "stdout",
          "text": [
            "Learned Heuristic Results:\n",
            "Solution Length: 21\n",
            "Nodes Expanded: 1525\n",
            "Search Time: 0.4467661380767822\n",
            "\n",
            "Traditional Heuristic Results:\n",
            "Solution Length: 21\n",
            "Nodes Expanded: 273\n",
            "Search Time: 0.013576269149780273\n"
          ]
        }
      ]
    },
    {
      "cell_type": "markdown",
      "source": [
        "# Trying with Random Forest"
      ],
      "metadata": {
        "id": "cHF7CMiyIRy5"
      }
    },
    {
      "cell_type": "code",
      "source": [
        "from sklearn.ensemble import RandomForestRegressor\n",
        "\n",
        "# Train a Random Forest model\n",
        "rf_model = RandomForestRegressor(n_estimators=100, max_depth=10, random_state=42)\n",
        "rf_model.fit(X_train, y_train)\n",
        "\n",
        "# Use the Random Forest model as the heuristic\n",
        "solver_learned_rf = PuzzleSolver(model=rf_model)\n",
        "\n",
        "# Solve the puzzle using the Random Forest model\n",
        "result_learned_rf = solver_learned_rf.solve(initial_state, goal_state)\n",
        "\n",
        "# Print the results for the learned heuristic (Random Forest)\n",
        "print(\"Learned Heuristic (Random Forest) Results:\")\n",
        "print(\"Solution Length:\", result_learned_rf[1])\n",
        "print(\"Nodes Expanded:\", result_learned_rf[2])\n",
        "print(\"Search Time:\", result_learned_rf[3])\n"
      ],
      "metadata": {
        "colab": {
          "base_uri": "https://localhost:8080/"
        },
        "id": "xyse2VG-IVuY",
        "outputId": "7fa2ff94-2272-48dd-b3a5-e90aeca698a2"
      },
      "execution_count": null,
      "outputs": [
        {
          "output_type": "stream",
          "name": "stdout",
          "text": [
            "Learned Heuristic (Random Forest) Results:\n",
            "Solution Length: 21\n",
            "Nodes Expanded: 334\n",
            "Search Time: 2.8943030834198\n"
          ]
        }
      ]
    },
    {
      "cell_type": "markdown",
      "source": [
        "# Let's add more Features"
      ],
      "metadata": {
        "id": "a34ipGkHJHs-"
      }
    },
    {
      "cell_type": "markdown",
      "source": [
        "# Load the data and compute Manhattan distance"
      ],
      "metadata": {
        "id": "7bpfp0mQJT7v"
      }
    },
    {
      "cell_type": "code",
      "source": [
        "import sqlite3\n",
        "import pandas as pd\n",
        "import numpy as np\n",
        "\n",
        "# Load data from the SQLite database\n",
        "def load_data_from_db(db_path):\n",
        "    conn = sqlite3.connect(db_path)\n",
        "    cursor = conn.cursor()\n",
        "    cursor.execute(\"SELECT state, solution_length FROM puzzle_states\")\n",
        "    data = cursor.fetchall()\n",
        "    conn.close()\n",
        "    df = pd.DataFrame(data, columns=['state', 'solution_length'])\n",
        "    return df\n",
        "\n",
        "# Calculate the Manhattan distance\n",
        "def calculate_manhattan_distance(state, goal_state):\n",
        "    total_distance = 0\n",
        "    state_reshaped = np.reshape(state, (3, 3))\n",
        "    for i in range(3):\n",
        "        for j in range(3):\n",
        "            tile = state_reshaped[i][j]\n",
        "            if tile != 0:\n",
        "                goal_i, goal_j = [(ix, iy) for ix, row in enumerate(goal_state) for iy, val in enumerate(row) if val == tile][0]\n",
        "                total_distance += abs(i - goal_i) + abs(j - goal_j)\n",
        "    return total_distance\n",
        "\n",
        "def calculate_misplaced_tiles(state, goal_state):\n",
        "    misplaced = 0\n",
        "    for i in range(3):\n",
        "        for j in range(3):\n",
        "            if state[i][j] != 0 and state[i][j] != goal_state[i][j]:\n",
        "                misplaced += 1\n",
        "    return misplaced\n",
        "\n",
        "def calculate_tile_position_indicators(state, goal_state):\n",
        "    correct_row = correct_col = 0\n",
        "    for i in range(3):\n",
        "        for j in range(3):\n",
        "            tile = state[i][j]\n",
        "            if tile != 0:\n",
        "                goal_i, goal_j = [(ix, iy) for ix, row in enumerate(goal_state) for iy, val in enumerate(row) if val == tile][0]\n",
        "                if i == goal_i: correct_row += 1\n",
        "                if j == goal_j: correct_col += 1\n",
        "    return correct_row, correct_col\n",
        "\n",
        "# Preprocess the data: load state and compute additional features\n",
        "def preprocess_data(df):\n",
        "    goal_state = [[1, 2, 3], [4, 5, 6], [7, 8, 0]]\n",
        "    manhattan_distances = []\n",
        "    misplaced_tiles = []\n",
        "    correct_row_col = []\n",
        "\n",
        "    for state_str in df['state']:\n",
        "        state_list = eval(state_str)  # Convert the string to list\n",
        "        flattened_state = [tile for row in state_list for tile in row]\n",
        "        manhattan_distance = calculate_manhattan_distance(flattened_state, goal_state)\n",
        "        misplaced = calculate_misplaced_tiles(state_list, goal_state)\n",
        "        row_col = calculate_tile_position_indicators(state_list, goal_state)\n",
        "\n",
        "        manhattan_distances.append(manhattan_distance)\n",
        "        misplaced_tiles.append(misplaced)\n",
        "        correct_row_col.append(row_col)\n",
        "\n",
        "    df['manhattan_distance'] = manhattan_distances\n",
        "    df['misplaced_tiles'] = misplaced_tiles\n",
        "    df['correct_row'], df['correct_column'] = zip(*correct_row_col)\n",
        "\n",
        "    return df\n",
        "\n",
        "# Load the data\n",
        "db_path = '/content/puzzle_database.db'  # Update with your path\n",
        "df = load_data_from_db(db_path)\n",
        "\n",
        "# Preprocess the data (calculate features)\n",
        "df = preprocess_data(df)\n"
      ],
      "metadata": {
        "id": "Qm6G8oMUJK9C"
      },
      "execution_count": null,
      "outputs": []
    },
    {
      "cell_type": "markdown",
      "source": [
        "# Train the Model with Additional Features"
      ],
      "metadata": {
        "id": "HNPRPSqqJf64"
      }
    },
    {
      "cell_type": "code",
      "source": [
        "from sklearn.model_selection import train_test_split\n",
        "from sklearn.ensemble import RandomForestRegressor\n",
        "from sklearn.metrics import mean_squared_error, mean_absolute_error\n",
        "\n",
        "# Use the additional features in the model\n",
        "X = df[['manhattan_distance', 'misplaced_tiles', 'correct_row', 'correct_column']].values  # Features\n",
        "y = df['solution_length'].values  # Target (solution length)\n",
        "\n",
        "# Split the data into training and test sets\n",
        "X_train, X_test, y_train, y_test = train_test_split(X, y, test_size=0.2, random_state=42)\n",
        "\n",
        "# Train a Random Forest model\n",
        "rf_model = RandomForestRegressor(n_estimators=100, max_depth=10, random_state=42)\n",
        "rf_model.fit(X_train, y_train)\n",
        "\n",
        "# Evaluate the Random Forest model\n",
        "y_pred = rf_model.predict(X_test)\n",
        "mse = mean_squared_error(y_test, y_pred)\n",
        "mae = mean_absolute_error(y_test, y_pred)\n",
        "\n",
        "print(f\"Random Forest - MSE: {mse}, MAE: {mae}\")\n"
      ],
      "metadata": {
        "colab": {
          "base_uri": "https://localhost:8080/"
        },
        "id": "jkkv1zTuJhCK",
        "outputId": "89d22c86-614e-499e-ba9c-88b831286ac4"
      },
      "execution_count": null,
      "outputs": [
        {
          "output_type": "stream",
          "name": "stdout",
          "text": [
            "Random Forest - MSE: 6.27446531719076, MAE: 1.9852507638124954\n"
          ]
        }
      ]
    },
    {
      "cell_type": "markdown",
      "source": [
        "# Puzzle Solver"
      ],
      "metadata": {
        "id": "qJTNYzn2J-fk"
      }
    },
    {
      "cell_type": "code",
      "source": [
        "import heapq\n",
        "import numpy as np\n",
        "\n",
        "class PuzzleSolver:\n",
        "    def __init__(self, model=None):\n",
        "        self.model = model  # The machine learning model for the learned heuristic\n",
        "\n",
        "    def heuristic(self, state):\n",
        "        \"\"\"Compute the heuristic based on the model or Manhattan distance.\"\"\"\n",
        "        if self.model:\n",
        "            # Flatten the state for feature calculation\n",
        "            flattened_state = [tile for row in state for tile in row]\n",
        "\n",
        "            # Compute all features needed for the model\n",
        "            goal_state = [[1, 2, 3], [4, 5, 6], [7, 8, 0]]\n",
        "            manhattan_distance = calculate_manhattan_distance(flattened_state, goal_state)\n",
        "            misplaced_tiles = calculate_misplaced_tiles(state, goal_state)\n",
        "            correct_row, correct_col = calculate_tile_position_indicators(state, goal_state)\n",
        "\n",
        "            # Create the feature vector\n",
        "            feature_vector = np.array([[manhattan_distance, misplaced_tiles, correct_row, correct_col]])\n",
        "\n",
        "            # Use the model to predict the heuristic value\n",
        "            return self.model.predict(feature_vector)[0]\n",
        "        else:\n",
        "            # Use the traditional Manhattan distance heuristic if no model is provided\n",
        "            goal_state = [[1, 2, 3], [4, 5, 6], [7, 8, 0]]\n",
        "            return self.manhattan_distance(state, goal_state)\n",
        "\n",
        "    def manhattan_distance(self, state, goal_state):\n",
        "        \"\"\"Calculate the Manhattan distance heuristic.\"\"\"\n",
        "        total_distance = 0\n",
        "        for i in range(3):\n",
        "            for j in range(3):\n",
        "                tile = state[i][j]\n",
        "                if tile != 0:\n",
        "                    goal_i, goal_j = [(ix, iy) for ix, row in enumerate(goal_state) for iy, val in enumerate(row) if val == tile][0]\n",
        "                    total_distance += abs(i - goal_i) + abs(j - goal_j)\n",
        "        return total_distance\n",
        "\n",
        "    def generate_children(self, node):\n",
        "        \"\"\"Generate child states by moving the blank tile (0).\"\"\"\n",
        "        children = []\n",
        "        n = 3\n",
        "        moves = [(0, 1), (0, -1), (1, 0), (-1, 0)]  # right, left, down, up\n",
        "        x, y = [(ix, iy) for ix, row in enumerate(node.state) for iy, val in enumerate(row) if val == 0][0]  # Find 0\n",
        "\n",
        "        for move in moves:\n",
        "            new_x, new_y = x + move[0], y + move[1]\n",
        "            if 0 <= new_x < n and 0 <= new_y < n:\n",
        "                new_state = [row[:] for row in node.state]  # Create a copy of the state\n",
        "                new_state[x][y], new_state[new_x][new_y] = new_state[new_x][new_y], new_state[x][y]\n",
        "                child_node = Node(new_state, node.level + 1, 0, node)\n",
        "                children.append(child_node)\n",
        "\n",
        "        return children\n",
        "\n",
        "    def solve(self, initial_state, goal_state):\n",
        "        \"\"\"Implement the A* search algorithm with metrics collection.\"\"\"\n",
        "        open_list = []\n",
        "        closed_set = set()\n",
        "\n",
        "        initial_node = Node(initial_state, 0, 0, None)\n",
        "        initial_node.f_value = self.heuristic(initial_state)\n",
        "        heapq.heappush(open_list, initial_node)\n",
        "\n",
        "        solution_length = 0\n",
        "        nodes_expanded = 0  # Initialize counter\n",
        "\n",
        "        start_time = time.time()  # Start timing the search\n",
        "\n",
        "        while open_list:\n",
        "            current_node = heapq.heappop(open_list)\n",
        "            closed_set.add(tuple(map(tuple, current_node.state)))\n",
        "            nodes_expanded += 1  # Increment nodes expanded\n",
        "\n",
        "            if current_node.state == goal_state:\n",
        "                path = []\n",
        "                while current_node:\n",
        "                    path.append(current_node.state)\n",
        "                    current_node = current_node.parent\n",
        "                    solution_length += 1\n",
        "\n",
        "                end_time = time.time()  # End timing the search\n",
        "                search_time = end_time - start_time  # Calculate the time taken\n",
        "\n",
        "                return (list(reversed(path)), solution_length, nodes_expanded, search_time)\n",
        "\n",
        "            # Generate children nodes\n",
        "            children = self.generate_children(current_node)\n",
        "            for child in children:\n",
        "                if tuple(map(tuple, child.state)) not in closed_set:\n",
        "                    child.f_value = child.level + self.heuristic(child.state)\n",
        "                    heapq.heappush(open_list, child)\n",
        "\n",
        "        end_time = time.time()  # End timing the search\n",
        "        search_time = end_time - start_time\n",
        "\n",
        "        return (None, solution_length, nodes_expanded, search_time)\n"
      ],
      "metadata": {
        "id": "MkHwT2KzKBg4"
      },
      "execution_count": null,
      "outputs": []
    },
    {
      "cell_type": "markdown",
      "source": [
        "# Use the Model in A* Search"
      ],
      "metadata": {
        "id": "sTxAqb0UJj4i"
      }
    },
    {
      "cell_type": "code",
      "source": [
        "# Instantiate the PuzzleSolver class with the Random Forest model\n",
        "solver_learned = PuzzleSolver(model=rf_model)\n",
        "\n",
        "# Solve the puzzle using the learned heuristic (Random Forest model)\n",
        "result_learned = solver_learned.solve(initial_state, goal_state)\n",
        "\n",
        "# Print the results for the learned heuristic\n",
        "print(\"Learned Heuristic Results:\")\n",
        "print(\"Solution Length:\", result_learned[1])\n",
        "print(\"Nodes Expanded:\", result_learned[2])\n",
        "print(\"Search Time:\", result_learned[3])\n"
      ],
      "metadata": {
        "colab": {
          "base_uri": "https://localhost:8080/"
        },
        "id": "4vqhk03WJm3o",
        "outputId": "bc4312b4-aa9a-47f6-a752-abe9c2e9125b"
      },
      "execution_count": null,
      "outputs": [
        {
          "output_type": "stream",
          "name": "stdout",
          "text": [
            "Learned Heuristic Results:\n",
            "Solution Length: 21\n",
            "Nodes Expanded: 128\n",
            "Search Time: 1.1088335514068604\n"
          ]
        }
      ]
    },
    {
      "cell_type": "markdown",
      "source": [
        "# Tuning Random Forest with Grid Search"
      ],
      "metadata": {
        "id": "nTPkdVhwK8r5"
      }
    },
    {
      "cell_type": "code",
      "source": [
        "from sklearn.model_selection import GridSearchCV\n",
        "\n",
        "# Define the parameter grid for Random Forest\n",
        "param_grid = {\n",
        "    'n_estimators': [100, 200],\n",
        "    'max_depth': [10, 20, None],\n",
        "    'min_samples_split': [2, 5],\n",
        "    'min_samples_leaf': [1, 2]\n",
        "}\n",
        "\n",
        "# Perform Grid Search to find the best parameters\n",
        "grid_search = GridSearchCV(RandomForestRegressor(random_state=42), param_grid, cv=3, scoring='neg_mean_squared_error')\n",
        "grid_search.fit(X_train, y_train)\n",
        "\n",
        "# Best model from the grid search\n",
        "best_rf_model = grid_search.best_estimator_\n",
        "\n",
        "# Use the best model to solve the puzzle\n",
        "solver_learned = PuzzleSolver(model=best_rf_model)\n",
        "result_learned = solver_learned.solve(initial_state, goal_state)\n",
        "\n",
        "# Print results\n",
        "print(\"Learned Heuristic Results (Best RF Model):\")\n",
        "print(\"Solution Length:\", result_learned[1])\n",
        "print(\"Nodes Expanded:\", result_learned[2])\n",
        "print(\"Search Time:\", result_learned[3])\n"
      ],
      "metadata": {
        "colab": {
          "base_uri": "https://localhost:8080/"
        },
        "id": "q3t2xiL_K927",
        "outputId": "5e9b8413-afb3-4ad8-91e4-8e9c7a353edb"
      },
      "execution_count": null,
      "outputs": [
        {
          "output_type": "stream",
          "name": "stdout",
          "text": [
            "Learned Heuristic Results (Best RF Model):\n",
            "Solution Length: 21\n",
            "Nodes Expanded: 131\n",
            "Search Time: 2.6688272953033447\n"
          ]
        }
      ]
    },
    {
      "cell_type": "markdown",
      "source": [
        "# XGBoost with Additional Features"
      ],
      "metadata": {
        "id": "il3CkYVsb5qC"
      }
    },
    {
      "cell_type": "code",
      "source": [
        "from xgboost import XGBRegressor\n",
        "from sklearn.model_selection import GridSearchCV\n",
        "\n",
        "# Define parameter grid for XGBoost\n",
        "param_grid = {\n",
        "    'n_estimators': [100, 200],\n",
        "    'max_depth': [3, 6, 10],\n",
        "    'learning_rate': [0.01, 0.1, 0.3]\n",
        "}\n",
        "\n",
        "# Perform grid search\n",
        "xgb = XGBRegressor()\n",
        "grid_search = GridSearchCV(xgb, param_grid, cv=3, scoring='neg_mean_squared_error')\n",
        "grid_search.fit(X_train, y_train)\n",
        "\n",
        "# Best model\n",
        "best_xgb_model = grid_search.best_estimator_\n",
        "\n",
        "# Use the best model to solve the puzzle\n",
        "solver_learned = PuzzleSolver(model=best_xgb_model)\n",
        "result_learned = solver_learned.solve(initial_state, goal_state)\n",
        "\n",
        "# Print results\n",
        "print(\"Learned Heuristic Results (Best XGBoost Model):\")\n",
        "print(\"Solution Length:\", result_learned[1])\n",
        "print(\"Nodes Expanded:\", result_learned[2])\n",
        "print(\"Search Time:\", result_learned[3])\n"
      ],
      "metadata": {
        "colab": {
          "base_uri": "https://localhost:8080/"
        },
        "id": "Azn89Whqb7FY",
        "outputId": "e7edb1a6-8b75-4d52-9933-581993eafa81"
      },
      "execution_count": null,
      "outputs": [
        {
          "output_type": "stream",
          "name": "stdout",
          "text": [
            "Learned Heuristic Results (Best XGBoost Model):\n",
            "Solution Length: 21\n",
            "Nodes Expanded: 127\n",
            "Search Time: 0.15287423133850098\n"
          ]
        }
      ]
    }
  ]
}